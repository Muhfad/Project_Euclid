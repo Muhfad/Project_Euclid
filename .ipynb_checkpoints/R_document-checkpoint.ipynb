{
 "cells": [
  {
   "cell_type": "markdown",
   "metadata": {},
   "source": [
    "<h1 id=\"tocheading\">Table of Contents</h1>\n",
    "<div id=\"toc\"></div>"
   ]
  },
  {
   "cell_type": "code",
   "execution_count": 3,
   "metadata": {},
   "outputs": [
    {
     "data": {
      "application/javascript": [
       "$.getScript('https://kmahelona.github.io/ipython_notebook_goodies/ipython_notebook_toc.js')\n"
      ],
      "text/plain": [
       "<IPython.core.display.Javascript object>"
      ]
     },
     "metadata": {},
     "output_type": "display_data"
    }
   ],
   "source": [
    "%%javascript # for table of content\n",
    "$.getScript('https://kmahelona.github.io/ipython_notebook_goodies/ipython_notebook_toc.js')"
   ]
  },
  {
   "cell_type": "markdown",
   "metadata": {},
   "source": [
    "# PROJECT EUCLID\n",
    "This is a project on euclidean distances for large mtrices as a metric for clustering set of points in a n-dimensional space. It is done in R and python with extention in C and C++ to explore possible speed gains."
   ]
  },
  {
   "cell_type": "markdown",
   "metadata": {},
   "source": [
    "## R"
   ]
  },
  {
   "cell_type": "markdown",
   "metadata": {},
   "source": [
    "### Ungrouped"
   ]
  },
  {
   "cell_type": "markdown",
   "metadata": {},
   "source": [
    "In R, we compare times with the base R function utils::dist .  Here are the five functions used\n",
    "1. dist: This is the base R function. However it is technically a C function except that the output is formatted for readability. \n",
    "2. eucdist_R: This function uses vectorization in R to calculate distance between any two n-dimensional vectors\n",
    "3. dotprod: This function uses dot product to calculate distance between any two n-dimensional vectors. It uses pure R\n",
    "4. eucdist_C: This function uses a C wrapper in R to calculate distances for a given matrix\n",
    "5. fastdist2: This uses a C++ function loaded into R using Rcpp package\n",
    "\n",
    "Note that 2 and 3 takes vectors as input. They can be called on every combinations of rows in an n-dimensianal matrix using the euc_func function below. The ouputs can be formatted as a \"dist\" object using the function mefa::vec2dist for easy viewing. To calculate the distances for a matrix, euc_func takes two arguments: the matrix and the function to be used."
   ]
  },
  {
   "cell_type": "code",
   "execution_count": 1,
   "metadata": {},
   "outputs": [],
   "source": [
    "%load_ext rpy2.ipython"
   ]
  },
  {
   "cell_type": "code",
   "execution_count": 2,
   "metadata": {},
   "outputs": [],
   "source": [
    "import warnings\n",
    "warnings.filterwarnings('ignore')"
   ]
  },
  {
   "cell_type": "code",
   "execution_count": 3,
   "metadata": {},
   "outputs": [],
   "source": [
    "%%R\n",
    "\n",
    "# This function uses one of the above method to calculate distance between rows\n",
    "euc_func <- function(dist_func, M){\n",
    "  # takes a distance calculating function as a string (for two points)\n",
    "  # function dist_func and a matrix M \n",
    "  # returns the distance between rows of matrix M\n",
    "  f <- match.fun(dist_func) # as a function\n",
    "  n <- nrow(M)\n",
    "  l <- n*(n-1)/2\n",
    "  last_element <- f(M[n,], M[n-1, ])\n",
    "  distance <- numeric(l)\n",
    "  distance[l] <- last_element\n",
    "  k <- 1 # for indexing the distance vector\n",
    "  for(i in 1:(n-1)){\n",
    "    \n",
    "    A = M[i, ]\n",
    "    # removing the column containing A\n",
    "    for(j in (i + 1):n){\n",
    "      #print(j)\n",
    "      B <- M[j, ]\n",
    "      distance[k] <- f(A, B)\n",
    "      k <- k + 1\n",
    "      \n",
    "    }\n",
    "    \n",
    "  }\n",
    "#   return( mefa::vec2dist(distance, n)  ) # vect2dist formats the output\n",
    "    return( distance )\n",
    "  \n",
    "}\n"
   ]
  },
  {
   "cell_type": "markdown",
   "metadata": {},
   "source": [
    "The code for the dot product method(3) and vectorization method."
   ]
  },
  {
   "cell_type": "markdown",
   "metadata": {},
   "source": [
    "## Dot Product"
   ]
  },
  {
   "cell_type": "code",
   "execution_count": 4,
   "metadata": {},
   "outputs": [],
   "source": [
    "%%R\n",
    "# (1) Dot Product \n",
    "dot_prod_dist <- function(A, B){\n",
    "  # function for computing euclidean distances using dot-product\n",
    "  # Arguements : A and B are vectors of the same length \n",
    "  # Outputs: The Euclidean distance between A and B\n",
    "  \n",
    "  \n",
    "  # checking if the vectors are in the same dimension.\n",
    "  # for the most part it is a wastefull check\n",
    "  #if(length(A) != length(B)) stop('Invalid input(s)')\n",
    "  \n",
    "  u <- A - B\n",
    "  return(sqrt(sum(u*u)))\n",
    "}\n",
    "\n"
   ]
  },
  {
   "cell_type": "markdown",
   "metadata": {},
   "source": [
    "## Vectorization"
   ]
  },
  {
   "cell_type": "code",
   "execution_count": 5,
   "metadata": {},
   "outputs": [],
   "source": [
    "%%R\n",
    "#(2) using vectorization in R\n",
    "e_dist <- function(A, B){\n",
    "  # calculating the distance between vectors A and B\n",
    "  #if(length(A) != length(B)) stop('Invalid Input(s)')\n",
    "  \n",
    "  return( sqrt(sum((A - B)^2)) )\n",
    "  \n",
    "}"
   ]
  },
  {
   "cell_type": "markdown",
   "metadata": {},
   "source": [
    "The C and C++ function uses the same loop with the calculation done using a loop "
   ]
  },
  {
   "cell_type": "markdown",
   "metadata": {},
   "source": [
    "## The C Function"
   ]
  },
  {
   "cell_type": "markdown",
   "metadata": {},
   "source": [
    "The C function is in a file called eucdist.c. After compiling, the .so is loaded using dyn.load and then used in an R wrapper below"
   ]
  },
  {
   "cell_type": "code",
   "execution_count": 6,
   "metadata": {},
   "outputs": [
    {
     "name": "stdout",
     "output_type": "stream",
     "text": [
      "#include <math.h>\r\n",
      "#include <R.h>\r\n",
      "#include <Rinternals.h>\r\n",
      "#include <stdio.h>\r\n",
      "/* Euclidean distance */\r\n",
      "/*q=.C(\"eucdist\",as.integer(c(1,2,3,4,5,6,7,8)),as.integer(4),as.integer(2),as.double(vector(\"double\",6))*/\r\n",
      "void eucdist(double *x, int *m, int *n, double *d)\r\n",
      "{\r\n",
      "  /* Arguement:\r\n",
      "    1.  x is a matrix of dimension n by m\r\n",
      "    2.  m is the number of rows\r\n",
      "    3.  n is the number of coloums\r\n",
      "    4.  d is the pointer for output */\r\n",
      "  /*\r\n",
      "   d = sqrt(sum((XI-XJ).^2,2));            % Euclidean\r\n",
      "   */\r\n",
      "  int i,j,k; /* **pointer; /* Indexers */\r\n",
      "  int local_m, local_n;\r\n",
      "  local_m = *m, local_n = *n;\r\n",
      "  double theSum; /* size_t is an unsigned integer of size 16 bits */\r\n",
      "  /*\r\n",
      "  XI for indexing rows\r\n",
      "  XJ for indexing columns\r\n",
      "  XI0 unknown for now \r\n",
      "  */\r\n",
      "  int  XI, XJ, XI0, index; /* pointers as row indexers*/\r\n",
      "  // d = malloc( local_m*(local_m - 1)/2);\r\n",
      "  // XI0 =  (double *) x; /* we are not tuching x but using its memory address as XI */\r\n",
      "  // x = (double) x;\r\n",
      "  index = 0;\r\n",
      "\r\n",
      "  for (i=0; i<local_m-1; ++i) {\r\n",
      "    XI = i*local_n; //indexing the start of the i the row\r\n",
      "    XI0 = XI;\r\n",
      "    // Rprintf(\"XI is %d\\n\", XI);    \r\n",
      "    for (j=i+1; j<local_m; ++j) { \r\n",
      "      XJ = j*local_n; // indexing the start of the start jth row\r\n",
      "      // Rprintf(\"XJ is %d\\n\", XJ);\r\n",
      "      // XI = XI0; /* Index? */\r\n",
      "      theSum = 0.0;\r\n",
      "      for (k=0;k<local_n;k++,++XI,++XJ){\r\n",
      "        theSum += pow((x[XI]- x[XJ]), 2.0);\r\n",
      "      }\r\n",
      "      XI = XI0;\r\n",
      "      d[index++] = sqrt(theSum);\r\n",
      "    }\r\n",
      "  }\r\n",
      "}\r\n"
     ]
    }
   ],
   "source": [
    "%%bash\n",
    "cat C_C++/eucdist.c"
   ]
  },
  {
   "cell_type": "code",
   "execution_count": 7,
   "metadata": {},
   "outputs": [],
   "source": [
    "%%R\n",
    "eucdist_C <- function(M){\n",
    "    nr = as.integer(nrow(M))\n",
    "    if(nr <= 1) {\n",
    "        warning(\"Euclidean distances for a sinle point?\")\n",
    "        return(NULL) \n",
    "        }\n",
    "    # M is a matrix\n",
    "    out <- .C(\"eucdist\",\n",
    "        x = as.vector(t(M), \"double\"),\n",
    "        m = nrows,\n",
    "        n = as.integer(ncol(M)),\n",
    "        d = as.double(vector(\"double\", nr*(nr)-1)/2)\n",
    "    ) \n",
    "    #return(vec2dist(as.vector(out$d), nrows))\n",
    "    return(out$d)\n",
    "}\n"
   ]
  },
  {
   "cell_type": "markdown",
   "metadata": {},
   "source": [
    "## The C++ Function"
   ]
  },
  {
   "cell_type": "code",
   "execution_count": 8,
   "metadata": {},
   "outputs": [
    {
     "name": "stdout",
     "output_type": "stream",
     "text": [
      "#include <Rcpp.h>\r\n",
      "using namespace Rcpp;\r\n",
      "\r\n",
      "// [[Rcpp::export]]\r\n",
      "NumericVector fastdist2 (const NumericMatrix & x){\r\n",
      "  unsigned int outrows = x.nrow(), i = 0, j = 0,k=-1;\r\n",
      "  Rcpp::NumericVector out(outrows*(outrows-1)/2); /* empty matrix */\r\n",
      "\r\n",
      "  for (i = 0; i <= outrows-2; i++){\r\n",
      "    for (j = i + 1; j <= outrows-1 ; j ++){\r\n",
      "      k++;\r\n",
      "      out(k) = sqrt(sum(pow(x.row(i)-x.row(j), 2.0)));\r\n",
      "    }\r\n",
      "  }\r\n",
      "  // out(outrows*(outrows-1)/2) = sqrt(sum(pow(x.row(outrows)-x.row(outrows-1), 2.0)));\r\n",
      "  return out;\r\n",
      "}\r\n"
     ]
    }
   ],
   "source": [
    "%%bash\n",
    "cd /home/medfad/Desktop/WD/2019/Abdul/Project_Euclid\n",
    "cat C_C++/fastdist2.cpp"
   ]
  },
  {
   "cell_type": "markdown",
   "metadata": {},
   "source": [
    "The function is sourced using Rcpp::sourceCpp"
   ]
  },
  {
   "cell_type": "code",
   "execution_count": 9,
   "metadata": {},
   "outputs": [],
   "source": [
    " %%R\n",
    "Rcpp::sourceCpp(\"C_C++/fastdist2.cpp\")"
   ]
  },
  {
   "cell_type": "markdown",
   "metadata": {},
   "source": [
    "# Testing for Consistency"
   ]
  },
  {
   "cell_type": "markdown",
   "metadata": {},
   "source": [
    "A matrix of 1000 rows is used to check that the functions produced the same output with a seed of 1 for consistency. All of the function used are declared/sourced from in the R script functions.R"
   ]
  },
  {
   "cell_type": "code",
   "execution_count": 10,
   "metadata": {},
   "outputs": [
    {
     "name": "stdout",
     "output_type": "stream",
     "text": [
      "          [,1]      [,2]\n",
      "[1,]  3.735462 21.349651\n",
      "[2,] 11.836433 21.119318\n",
      "[3,]  1.643714  1.292224\n",
      "[4,] 25.952808 12.107316\n",
      "[5,] 13.295078 10.693956\n",
      "[6,]  1.795316 -6.626489\n"
     ]
    }
   ],
   "source": [
    "%%R\n",
    "set.seed(1)\n",
    "M <- matrix(rnorm(2000, 10, 10), ncol = 2)\n",
    "head(M)"
   ]
  },
  {
   "cell_type": "code",
   "execution_count": 11,
   "metadata": {
    "scrolled": false
   },
   "outputs": [
    {
     "name": "stdout",
     "output_type": "stream",
     "text": [
      "make: Nothing to be done for 'all'.\n"
     ]
    }
   ],
   "source": [
    "%%bash\n",
    "R CMD SHLIB C_C++/eucdist.c"
   ]
  },
  {
   "cell_type": "code",
   "execution_count": 12,
   "metadata": {},
   "outputs": [],
   "source": [
    "%%R\n",
    "dyn.load(\"C_C++/eucdist.so\")"
   ]
  },
  {
   "cell_type": "code",
   "execution_count": 13,
   "metadata": {},
   "outputs": [],
   "source": [
    "%%R\n",
    "source(\"/home/medfad/Desktop/WD/2019/Abdul/Project_Euclid/R_code/functions.R\")"
   ]
  },
  {
   "cell_type": "code",
   "execution_count": 14,
   "metadata": {},
   "outputs": [],
   "source": [
    "%%R\n",
    "d1 <- dotprod(M)\n",
    "d2 <- eucdist_C(M)\n",
    "d3 <- eucdist_R(M)\n",
    "d4 <- as.vector(dist(M)) # this output is format as an upper triangular matrix. so it is coverted to a vector\n",
    "d5 <- fastdist2(M)"
   ]
  },
  {
   "cell_type": "code",
   "execution_count": 15,
   "metadata": {},
   "outputs": [
    {
     "name": "stdout",
     "output_type": "stream",
     "text": [
      "d1[1:10]:  8.104245 20.1662 24.06307 14.31538 28.04333 11.60083 33.38971 26.67949 3.489988 27.16704 \n",
      "\n",
      " d2[1:10]:  8.104245 20.1662 24.06307 14.31538 28.04333 11.60083 33.38971 26.67949 3.489988 27.16704 \n",
      "\n",
      " d3[1:10]:  8.104245 20.1662 24.06307 14.31538 28.04333 11.60083 33.38971 26.67949 3.489988 27.16704 \n",
      "\n",
      " d4[1:10]:  8.104245 20.1662 24.06307 14.31538 28.04333 11.60083 33.38971 26.67949 3.489988 27.16704 \n",
      "\n",
      " d5[1:10]:  8.104245 20.1662 24.06307 14.31538 28.04333 11.60083 33.38971 26.67949 3.489988 27.16704 \n",
      "\n"
     ]
    }
   ],
   "source": [
    "%%R\n",
    "#compairing the first ten elements of each output\n",
    "# however this is done for smaller inputs and they give exactly the same output\n",
    "cat(\"d1[1:10]: \", d1[1:10], \"\\n\\n\", \"d2[1:10]: \" ,\n",
    "    d2[1:10], \"\\n\\n\", \"d3[1:10]: \", d3[1:10], \"\\n\\n\", \"d4[1:10]: \", d4[1:10], \"\\n\\n\", \"d5[1:10]: \", d5[1:10], \"\\n\\n\")"
   ]
  },
  {
   "cell_type": "markdown",
   "metadata": {},
   "source": [
    "# Timing The Functions"
   ]
  },
  {
   "cell_type": "markdown",
   "metadata": {},
   "source": [
    "The timing package rbenchmarks is used. It calculates the average time for a number of replication of the same function. Here, we used 25 replications for small inputs and 10 above 1000 rows. The output for each function's timing is a dataframe with two columns: test(name of the function) and the time elapsed. A columns for relative timings is also added. The relative column is calculated with respect to the base function \"dist\". Since the smaller the time the better, we divided each function's time by base R function's time. Example if base R took 0.04 seconds and one of the functions took 0.01 seconds, then that function is 0.04/0.01 (= 4 ) times faster than base R.  The code for timing is in euclid_timer.R . It should be noted that this timings are done on linux(ubuntu 19.04 Disco Dingo) on 4 GB. So it might be different for PCs/Operatiing systems with different specifications but the relative times should be nearly the same."
   ]
  },
  {
   "cell_type": "code",
   "execution_count": 16,
   "metadata": {},
   "outputs": [
    {
     "name": "stdout",
     "output_type": "stream",
     "text": [
      "R version 3.5.2 (2018-12-20)\n",
      "Platform: x86_64-pc-linux-gnu (64-bit)\n",
      "Running under: Ubuntu 19.04\n",
      "\n",
      "Matrix products: default\n",
      "BLAS: /usr/lib/x86_64-linux-gnu/openblas/libblas.so.3\n",
      "LAPACK: /usr/lib/x86_64-linux-gnu/openblas/liblapack.so.3\n",
      "\n",
      "locale:\n",
      " [1] LC_CTYPE=en_GB.UTF-8       LC_NUMERIC=C              \n",
      " [3] LC_TIME=en_GB.UTF-8        LC_COLLATE=en_GB.UTF-8    \n",
      " [5] LC_MONETARY=en_GB.UTF-8    LC_MESSAGES=en_GB.UTF-8   \n",
      " [7] LC_PAPER=en_GB.UTF-8       LC_NAME=C                 \n",
      " [9] LC_ADDRESS=C               LC_TELEPHONE=C            \n",
      "[11] LC_MEASUREMENT=en_GB.UTF-8 LC_IDENTIFICATION=C       \n",
      "\n",
      "attached base packages:\n",
      "[1] tools     stats     graphics  grDevices utils     datasets  methods  \n",
      "[8] base     \n",
      "\n",
      "loaded via a namespace (and not attached):\n",
      "[1] compiler_3.5.2 Rcpp_1.0.1    \n"
     ]
    }
   ],
   "source": [
    "%%R\n",
    "sessionInfo()"
   ]
  },
  {
   "cell_type": "code",
   "execution_count": 17,
   "metadata": {},
   "outputs": [
    {
     "name": "stdout",
     "output_type": "stream",
     "text": [
      " source(\"R_code/functions.R\")\n",
      "\n",
      "\n",
      "set.seed(1)\n",
      "require('rbenchmark')\n",
      "sink(\"small_inputs.txt\", append = TRUE)\n",
      "# the test is done with a 2 coloumn matrix( vectors in 2 dim  ensions )\n",
      "nrows = c(5, 10, 25, 50, 75, 100, 200, 250, 500) \n",
      "# nrows = c(10000)\n",
      "\n",
      "funcs <- c(\"dist\", \"dotprod\", \"eucdist_C\", \"eucdist_R\", \"fastdist2\")\n",
      "l <- length(funcs)\n",
      "Srelative_times <- data.frame(row.names = funcs)\n",
      "col_index = 1 # for indexing the columns of the relative time dataframe\n",
      "cat(\"This records the average times for 25 executions of each function\\n\")\n",
      "for(i in nrows){\n",
      "    cat(i, \"by\", 2, \"\\n\")\n",
      "    M <- matrix(rnorm(i*2, 10, 10), ncol = 2)\n",
      "    #print(M)\n",
      "    timer <- benchmark(\n",
      "                dotprod(M),\n",
      "                eucdist_R(M),\n",
      "                dist(M),\n",
      "                fastdist2(M),\n",
      "                eucdist_C(M),\n",
      "                columns = c(\"test\", \"elapsed\"),\n",
      "                replications = 25\n",
      "        )\n",
      "    \n",
      "    t_base = timer$elapsed[1] # time for dist(M), the base R function\n",
      "    \n",
      "    Srelative_now <- numeric(l) # vector to contain the relative time for each iteration\n",
      "    for(rows in 1:l){\n",
      "        relative_now[rows] <- round(t_base/timer$elapsed[rows], 4)     \n",
      "    }\n",
      "    Srelative_times[col_index] <- relative_now\n",
      "    col_index <- col_index + 1\n",
      "    timer$relative <- relative_now \n",
      "    print(timer)\n",
      "    cat(\"\\n\", paste(rep(\"*\", 100), collapse = \"\"), \"\\n\")\n",
      "}\n",
      "names(Srelative_times) <- nrows\n",
      "saveRDS(Srelative_times, file = \"Srelative_times.rds\")\n",
      "sink()\n",
      "\n",
      "\n",
      "\n",
      "sink(\"large_inputs.txt\", append = TRUE)\n",
      "# the test is done with a 2 coloumn matrix( vectors in 2 dim  ensions )\n",
      "# nrows = c(1000, 2500, 3000, 5000, 10000)\n",
      "\n",
      "# nrows = c(2500, 3000, 5000, 4000)\n",
      "\n",
      "nrows = c(750, 4000)\n",
      "\n",
      "\n",
      "funcs <- c(\"dist\", \"dotprod\", \"eucdist_C\", \"eucdist_R\", \"fastdist2\")\n",
      "l <- length(funcs)\n",
      "Lrelative_times <- data.frame(row.names = funcs)\n",
      "col_index = 1 # for indexing the columns of the relative time dataframe\n",
      "# cat(\"This records the average times for 10 executions of each function\\n\")\n",
      "for(i in nrows){\n",
      "    cat(i, \"by\", 2, \"\\n\")\n",
      "    M <- matrix(rnorm(i*2, 10, 10), ncol = 2)\n",
      "    #print(M)\n",
      "    timer <- benchmark(\n",
      "                dotprod(M),\n",
      "                eucdist_R(M),\n",
      "                dist(M),\n",
      "                fastdist2(M),\n",
      "                eucdist_C(M),\n",
      "                columns = c(\"test\", \"elapsed\"),\n",
      "                replications = 10\n",
      "            )\n",
      "    \n",
      "    t_base = timer$elapsed[1] # time for dist(M), the base R function\n",
      "    \n",
      "    relative_now <- numeric(l) # vector to contain the relative time for each iteration\n",
      "    for(rows in 1:l){\n",
      "        relative_now[rows] <- round(t_base/timer$elapsed[rows], 4)     \n",
      "    }\n",
      "    Lrelative_times[col_index] <- relative_now\n",
      "    col_index <- col_index + 1\n",
      "    timer$relative <- relative_now \n",
      "    print(timer)\n",
      "    cat(\"\\n\", paste(rep(\"*\", 100), collapse = \"\"), \"\\n\")\n",
      "}\n",
      "names(Lrelative_times) <- nrows\n",
      "saveRDS(Lrelative_times, file = \"Lrelative_times.rds\")\n",
      "sink()\n",
      "\n",
      "\n"
     ]
    }
   ],
   "source": [
    "%%bash\n",
    "cat R_code/euclid_timer.R"
   ]
  },
  {
   "cell_type": "markdown",
   "metadata": {},
   "source": [
    "## Times for Small Inputs"
   ]
  },
  {
   "cell_type": "code",
   "execution_count": 18,
   "metadata": {},
   "outputs": [
    {
     "name": "stdout",
     "output_type": "stream",
     "text": [
      "This records the average times for 25 executions of each function\n",
      "5 by 2 \n",
      "          test elapsed relative\n",
      "3      dist(M)   0.001   1.0000\n",
      "1   dotprod(M)   0.003   0.3333\n",
      "5 eucdist_C(M)   0.001   1.0000\n",
      "2 eucdist_R(M)   0.002   0.5000\n",
      "4 fastdist2(M)   0.001   1.0000\n",
      "\n",
      " **************************************************************************************************** \n",
      "10 by 2 \n",
      "          test elapsed relative\n",
      "3      dist(M)   0.001   1.0000\n",
      "1   dotprod(M)   0.007   0.1429\n",
      "5 eucdist_C(M)   0.002   0.5000\n",
      "2 eucdist_R(M)   0.006   0.1667\n",
      "4 fastdist2(M)   0.000      Inf\n",
      "\n",
      " **************************************************************************************************** \n",
      "25 by 2 \n",
      "          test elapsed relative\n",
      "3      dist(M)   0.001   1.0000\n",
      "1   dotprod(M)   0.031   0.0323\n",
      "5 eucdist_C(M)   0.001   1.0000\n",
      "2 eucdist_R(M)   0.034   0.0294\n",
      "4 fastdist2(M)   0.002   0.5000\n",
      "\n",
      " **************************************************************************************************** \n",
      "50 by 2 \n",
      "          test elapsed relative\n",
      "3      dist(M)   0.003   1.0000\n",
      "1   dotprod(M)   0.115   0.0261\n",
      "5 eucdist_C(M)   0.001   3.0000\n",
      "2 eucdist_R(M)   0.110   0.0273\n",
      "4 fastdist2(M)   0.006   0.5000\n",
      "\n",
      " **************************************************************************************************** \n",
      "75 by 2 \n",
      "          test elapsed relative\n",
      "3      dist(M)   0.003   1.0000\n",
      "1   dotprod(M)   0.249   0.0120\n",
      "5 eucdist_C(M)   0.002   1.5000\n",
      "2 eucdist_R(M)   0.235   0.0128\n",
      "4 fastdist2(M)   0.011   0.2727\n",
      "\n",
      " **************************************************************************************************** \n",
      "100 by 2 \n",
      "          test elapsed relative\n",
      "3      dist(M)   0.005   1.0000\n",
      "1   dotprod(M)   0.448   0.0112\n",
      "5 eucdist_C(M)   0.002   2.5000\n",
      "2 eucdist_R(M)   0.444   0.0113\n",
      "4 fastdist2(M)   0.018   0.2778\n",
      "\n",
      " **************************************************************************************************** \n",
      "200 by 2 \n",
      "          test elapsed relative\n",
      "3      dist(M)   0.019   1.0000\n",
      "1   dotprod(M)   1.750   0.0109\n",
      "5 eucdist_C(M)   0.004   4.7500\n",
      "2 eucdist_R(M)   1.679   0.0113\n",
      "4 fastdist2(M)   0.070   0.2714\n",
      "\n",
      " **************************************************************************************************** \n",
      "250 by 2 \n",
      "          test elapsed relative\n",
      "3      dist(M)   0.024   1.0000\n",
      "1   dotprod(M)   3.032   0.0079\n",
      "5 eucdist_C(M)   0.006   4.0000\n",
      "2 eucdist_R(M)   2.861   0.0084\n",
      "4 fastdist2(M)   0.100   0.2400\n",
      "\n",
      " **************************************************************************************************** \n",
      "500 by 2 \n",
      "          test elapsed relative\n",
      "3      dist(M)   0.080   1.0000\n",
      "1   dotprod(M)  11.456   0.0070\n",
      "5 eucdist_C(M)   0.023   3.4783\n",
      "2 eucdist_R(M)  10.546   0.0076\n",
      "4 fastdist2(M)   0.447   0.1790\n",
      "\n",
      " **************************************************************************************************** \n",
      "750 by 2 \n",
      "          test elapsed relative\n",
      "3      dist(M)   0.064   1.0000\n",
      "1   dotprod(M)  10.590   0.0060\n",
      "5 eucdist_C(M)   0.014   4.5714\n",
      "2 eucdist_R(M)   9.387   0.0068\n",
      "4 fastdist2(M)   0.344   0.1860\n",
      "\n",
      "1000 by 2 \n",
      "          test elapsed relative\n",
      "3      dist(M)   0.316   1.0000\n",
      "1   dotprod(M)  45.482   0.0069\n",
      "5 eucdist_C(M)   0.064   4.9375\n",
      "2 eucdist_R(M)  41.762   0.0076\n",
      "4 fastdist2(M)   1.541   0.2051\n",
      "\n",
      " **************************************************************************************************** "
     ]
    }
   ],
   "source": [
    "%%bash\n",
    "cat small_inputs.txt"
   ]
  },
  {
   "cell_type": "markdown",
   "metadata": {},
   "source": [
    "## Times for Large Inputs"
   ]
  },
  {
   "cell_type": "code",
   "execution_count": 19,
   "metadata": {},
   "outputs": [
    {
     "name": "stdout",
     "output_type": "stream",
     "text": [
      "This records the average times for 10 executions of each function\n",
      "2500 by 2 \n",
      "          test elapsed relative\n",
      "3      dist(M)   0.776   1.0000\n",
      "1   dotprod(M) 111.565   0.0070\n",
      "5 eucdist_C(M)   0.246   3.1545\n",
      "2 eucdist_R(M) 102.172   0.0076\n",
      "4 fastdist2(M)   3.910   0.1985\n",
      "\n",
      " **************************************************************************************************** \n",
      "3000 by 2 \n",
      "          test elapsed relative\n",
      "3      dist(M)   1.348   1.0000\n",
      "1   dotprod(M) 155.299   0.0087\n",
      "5 eucdist_C(M)   0.334   4.0359\n",
      "2 eucdist_R(M) 147.574   0.0091\n",
      "4 fastdist2(M)   5.587   0.2413\n",
      "\n",
      " **************************************************************************************************** \n",
      "5000 by 2 \n",
      "          test elapsed relative\n",
      "3      dist(M)   3.342   1.0000\n",
      "1   dotprod(M) 432.544   0.0077\n",
      "5 eucdist_C(M)   0.927   3.6052\n",
      "2 eucdist_R(M) 408.946   0.0082\n",
      "4 fastdist2(M)  15.679   0.2132\n",
      "\n",
      " **************************************************************************************************** \n",
      "4000 by 2 \n",
      "          test elapsed relative\n",
      "3      dist(M)   2.057   1.0000\n",
      "1   dotprod(M) 278.817   0.0074\n",
      "5 eucdist_C(M)   0.591   3.4805\n",
      "2 eucdist_R(M) 265.138   0.0078\n",
      "4 fastdist2(M)   9.977   0.2062\n",
      "\n",
      " **************************************************************************************************** "
     ]
    }
   ],
   "source": [
    "%%bash\n",
    "cat large_inputs.txt"
   ]
  },
  {
   "cell_type": "markdown",
   "metadata": {},
   "source": [
    "The relative times are merged in a dataframe and save in an Rdata file relative_times.rds, and the plotting is done in ggplot2."
   ]
  },
  {
   "cell_type": "code",
   "execution_count": 1,
   "metadata": {},
   "outputs": [
    {
     "name": "stderr",
     "output_type": "stream",
     "text": [
      "Loading required package: ggplot2\n"
     ]
    }
   ],
   "source": [
    "require(ggplot2)\n",
    "relative_times <- as.data.frame(t(readRDS(\"relative_times.rds\")))\n",
    "time_base = readRDS(\"time_base.rds\") # the base R times)\n",
    "n = as.numeric(row.names(relative_times))\n",
    "\n",
    "g = ggplot(data = relative_times, aes(x = n))\n",
    "g1 = g + geom_line(aes(y = dotprod, color = \"dotprod\", size=2.5))+ geom_line(aes(y = eucdist_C, color = \"eucdist_C\"))\n",
    "g2 = g1 + geom_line(aes(y = dist, color = \"dist\")) + geom_line(aes(y = eucdist_R, color = \"eucdist_R\", size = 2))\n",
    "g3 <- g2 + geom_line(aes(y = fastdist2, color = \"fastdist2\"))\n",
    "g4 <- g3 + scale_color_manual(NULL, \n",
    "            values=c(dotprod = \"green\", eucdist_R = \"cyan\", dist= \"black\", \n",
    "            fastdist2 = \"darkblue\", eucdist_C = \"red\")) +  \n",
    "            theme(legend.text = element_text(size=18)) + labs(y =\"Relative Times\", x = \"Number of rows\")"
   ]
  },
  {
   "cell_type": "code",
   "execution_count": 2,
   "metadata": {
    "scrolled": true
   },
   "outputs": [
    {
     "data": {
      "image/png": "[encoded data removed]",
      "text/plain": [
       "plot without title"
      ]
     },
     "metadata": {},
     "output_type": "display_data"
    }
   ],
   "source": [
    "# %%R\n",
    "library(repr); library(ggrepel)\n",
    "\n",
    "options(repr.plot.width=15, repr.plot.height = 10)\n",
    "g4 + annotate(\"point\", x = n, y = 1, color = \"blue\", size=3) + geom_text_repel(aes(x = sort(n), y = 1, label = time_base))"
   ]
  },
  {
   "cell_type": "markdown",
   "metadata": {},
   "source": [
    "### Note that the lines for eucdist_R and dotprod are superimposed on each other. Here is a closer look at their comparison"
   ]
  },
  {
   "cell_type": "code",
   "execution_count": 8,
   "metadata": {},
   "outputs": [],
   "source": [
    "# %%R\n",
    "g5 = g + geom_line(aes(y = dotprod, color = \"dotprod\")) + \n",
    "    geom_line(aes(y = eucdist_R, color = \"eucdist_R\")) +  scale_color_manual(NULL, \n",
    "    values=c(dotprod = \"green\", eucdist_R = \"cyan\")) + \n",
    "    theme(legend.text = element_text(size=14)) + ylim(0.005, 0.035) + labs(y =\"Relative Times\", x = \"Number of rows\")"
   ]
  },
  {
   "cell_type": "code",
   "execution_count": 9,
   "metadata": {},
   "outputs": [
    {
     "name": "stderr",
     "output_type": "stream",
     "text": [
      "Warning message:\n",
      "“Removed 2 rows containing missing values (geom_path).”Warning message:\n",
      "“Removed 2 rows containing missing values (geom_path).”"
     ]
    },
    {
     "data": {
      "image/png": "[encoded data removed]",
      "text/plain": [
       "plot without title"
      ]
     },
     "metadata": {},
     "output_type": "display_data"
    }
   ],
   "source": [
    "g5"
   ]
  },
  {
   "cell_type": "code",
   "execution_count": 2,
   "metadata": {
    "scrolled": true
   },
   "outputs": [
    {
     "data": {
      "text/html": [
       "<table>\n",
       "<caption>A data.frame: 15 × 5</caption>\n",
       "<thead>\n",
       "\t<tr><th></th><th scope=col>dist</th><th scope=col>dotprod</th><th scope=col>eucdist_C</th><th scope=col>eucdist_R</th><th scope=col>fastdist2</th></tr>\n",
       "\t<tr><th></th><th scope=col>&lt;dbl&gt;</th><th scope=col>&lt;dbl&gt;</th><th scope=col>&lt;dbl&gt;</th><th scope=col>&lt;dbl&gt;</th><th scope=col>&lt;dbl&gt;</th></tr>\n",
       "</thead>\n",
       "<tbody>\n",
       "\t<tr><th scope=row>5</th><td>1</td><td>0.3333</td><td>1.0000</td><td>0.5000</td><td>1.0000</td></tr>\n",
       "\t<tr><th scope=row>10</th><td>1</td><td>0.1429</td><td>0.5000</td><td>0.1667</td><td>   Inf</td></tr>\n",
       "\t<tr><th scope=row>25</th><td>1</td><td>0.0323</td><td>1.0000</td><td>0.0294</td><td>0.5000</td></tr>\n",
       "\t<tr><th scope=row>50</th><td>1</td><td>0.0261</td><td>3.0000</td><td>0.0273</td><td>0.5000</td></tr>\n",
       "\t<tr><th scope=row>75</th><td>1</td><td>0.0120</td><td>1.5000</td><td>0.0128</td><td>0.2727</td></tr>\n",
       "\t<tr><th scope=row>100</th><td>1</td><td>0.0112</td><td>2.5000</td><td>0.0113</td><td>0.2778</td></tr>\n",
       "\t<tr><th scope=row>200</th><td>1</td><td>0.0109</td><td>4.7500</td><td>0.0113</td><td>0.2714</td></tr>\n",
       "\t<tr><th scope=row>250</th><td>1</td><td>0.0079</td><td>4.0000</td><td>0.0084</td><td>0.2400</td></tr>\n",
       "\t<tr><th scope=row>500</th><td>1</td><td>0.0070</td><td>3.4783</td><td>0.0076</td><td>0.1790</td></tr>\n",
       "\t<tr><th scope=row>1000</th><td>1</td><td>0.0069</td><td>4.9375</td><td>0.0076</td><td>0.2051</td></tr>\n",
       "\t<tr><th scope=row>2500</th><td>1</td><td>0.0070</td><td>3.1545</td><td>0.0076</td><td>0.1985</td></tr>\n",
       "\t<tr><th scope=row>3000</th><td>1</td><td>0.0087</td><td>4.0359</td><td>0.0091</td><td>0.2413</td></tr>\n",
       "\t<tr><th scope=row>5000</th><td>1</td><td>0.0077</td><td>3.6052</td><td>0.0082</td><td>0.2132</td></tr>\n",
       "\t<tr><th scope=row>4000</th><td>1</td><td>0.0074</td><td>3.4805</td><td>0.0078</td><td>0.2062</td></tr>\n",
       "\t<tr><th scope=row>750</th><td>1</td><td>0.0060</td><td>4.5714</td><td>0.0068</td><td>0.1860</td></tr>\n",
       "</tbody>\n",
       "</table>\n"
      ],
      "text/latex": [
       "A data.frame: 15 × 5\n",
       "\\begin{tabular}{r|lllll}\n",
       "  & dist & dotprod & eucdist\\_C & eucdist\\_R & fastdist2\\\\\n",
       "  & <dbl> & <dbl> & <dbl> & <dbl> & <dbl>\\\\\n",
       "\\hline\n",
       "\t5 & 1 & 0.3333 & 1.0000 & 0.5000 & 1.0000\\\\\n",
       "\t10 & 1 & 0.1429 & 0.5000 & 0.1667 &    Inf\\\\\n",
       "\t25 & 1 & 0.0323 & 1.0000 & 0.0294 & 0.5000\\\\\n",
       "\t50 & 1 & 0.0261 & 3.0000 & 0.0273 & 0.5000\\\\\n",
       "\t75 & 1 & 0.0120 & 1.5000 & 0.0128 & 0.2727\\\\\n",
       "\t100 & 1 & 0.0112 & 2.5000 & 0.0113 & 0.2778\\\\\n",
       "\t200 & 1 & 0.0109 & 4.7500 & 0.0113 & 0.2714\\\\\n",
       "\t250 & 1 & 0.0079 & 4.0000 & 0.0084 & 0.2400\\\\\n",
       "\t500 & 1 & 0.0070 & 3.4783 & 0.0076 & 0.1790\\\\\n",
       "\t1000 & 1 & 0.0069 & 4.9375 & 0.0076 & 0.2051\\\\\n",
       "\t2500 & 1 & 0.0070 & 3.1545 & 0.0076 & 0.1985\\\\\n",
       "\t3000 & 1 & 0.0087 & 4.0359 & 0.0091 & 0.2413\\\\\n",
       "\t5000 & 1 & 0.0077 & 3.6052 & 0.0082 & 0.2132\\\\\n",
       "\t4000 & 1 & 0.0074 & 3.4805 & 0.0078 & 0.2062\\\\\n",
       "\t750 & 1 & 0.0060 & 4.5714 & 0.0068 & 0.1860\\\\\n",
       "\\end{tabular}\n"
      ],
      "text/markdown": [
       "\n",
       "A data.frame: 15 × 5\n",
       "\n",
       "| <!--/--> | dist &lt;dbl&gt; | dotprod &lt;dbl&gt; | eucdist_C &lt;dbl&gt; | eucdist_R &lt;dbl&gt; | fastdist2 &lt;dbl&gt; |\n",
       "|---|---|---|---|---|---|\n",
       "| 5 | 1 | 0.3333 | 1.0000 | 0.5000 | 1.0000 |\n",
       "| 10 | 1 | 0.1429 | 0.5000 | 0.1667 |    Inf |\n",
       "| 25 | 1 | 0.0323 | 1.0000 | 0.0294 | 0.5000 |\n",
       "| 50 | 1 | 0.0261 | 3.0000 | 0.0273 | 0.5000 |\n",
       "| 75 | 1 | 0.0120 | 1.5000 | 0.0128 | 0.2727 |\n",
       "| 100 | 1 | 0.0112 | 2.5000 | 0.0113 | 0.2778 |\n",
       "| 200 | 1 | 0.0109 | 4.7500 | 0.0113 | 0.2714 |\n",
       "| 250 | 1 | 0.0079 | 4.0000 | 0.0084 | 0.2400 |\n",
       "| 500 | 1 | 0.0070 | 3.4783 | 0.0076 | 0.1790 |\n",
       "| 1000 | 1 | 0.0069 | 4.9375 | 0.0076 | 0.2051 |\n",
       "| 2500 | 1 | 0.0070 | 3.1545 | 0.0076 | 0.1985 |\n",
       "| 3000 | 1 | 0.0087 | 4.0359 | 0.0091 | 0.2413 |\n",
       "| 5000 | 1 | 0.0077 | 3.6052 | 0.0082 | 0.2132 |\n",
       "| 4000 | 1 | 0.0074 | 3.4805 | 0.0078 | 0.2062 |\n",
       "| 750 | 1 | 0.0060 | 4.5714 | 0.0068 | 0.1860 |\n",
       "\n"
      ],
      "text/plain": [
       "     dist dotprod eucdist_C eucdist_R fastdist2\n",
       "5    1    0.3333  1.0000    0.5000    1.0000   \n",
       "10   1    0.1429  0.5000    0.1667       Inf   \n",
       "25   1    0.0323  1.0000    0.0294    0.5000   \n",
       "50   1    0.0261  3.0000    0.0273    0.5000   \n",
       "75   1    0.0120  1.5000    0.0128    0.2727   \n",
       "100  1    0.0112  2.5000    0.0113    0.2778   \n",
       "200  1    0.0109  4.7500    0.0113    0.2714   \n",
       "250  1    0.0079  4.0000    0.0084    0.2400   \n",
       "500  1    0.0070  3.4783    0.0076    0.1790   \n",
       "1000 1    0.0069  4.9375    0.0076    0.2051   \n",
       "2500 1    0.0070  3.1545    0.0076    0.1985   \n",
       "3000 1    0.0087  4.0359    0.0091    0.2413   \n",
       "5000 1    0.0077  3.6052    0.0082    0.2132   \n",
       "4000 1    0.0074  3.4805    0.0078    0.2062   \n",
       "750  1    0.0060  4.5714    0.0068    0.1860   "
      ]
     },
     "metadata": {},
     "output_type": "display_data"
    }
   ],
   "source": [
    "# %%R\n",
    "relative_times <- as.data.frame(t(readRDS(\"relative_times.rds\")))\n",
    "relative_times"
   ]
  },
  {
   "cell_type": "markdown",
   "metadata": {},
   "source": [
    "## Conclusion"
   ]
  },
  {
   "cell_type": "markdown",
   "metadata": {},
   "source": [
    "From the plots it is evident that C is performing a lot better than the base R function. Even after formatting the output for the C wrapper using mefa::vec2dist it still performs at least 2x faster. C++ does well on small inputs compared to base R but for number of rows more than 25 it becomes slower untill it settles at minimum of about 0.3x as fast(about 3x slower). The function written in pure R (dotprod and eucdist_R) were the slowest throughout. This might be because all the other functions are using C/C++."
   ]
  },
  {
   "cell_type": "code",
   "execution_count": 2,
   "metadata": {},
   "outputs": [
    {
     "name": "stdout",
     "output_type": "stream",
     "text": [
      "This records the average times for 50 executions of each function\n",
      "5 by 2 \n",
      "            test elapsed relative\n",
      "3        dist(M)   0.001   1.0000\n",
      "1     dotprod(M)   0.005   0.2000\n",
      "5   eucdist_C(M)   0.015   0.0667\n",
      "2   eucdist_R(M)   0.005   0.2000\n",
      "4 fastdist2_R(M)   0.007   0.1429\n",
      "\n",
      " **************************************************************************************************** \n",
      "10 by 2 \n",
      "            test elapsed relative\n",
      "3        dist(M)   0.001   1.0000\n",
      "1     dotprod(M)   0.006   0.1667\n",
      "5   eucdist_C(M)   0.002   0.5000\n",
      "2   eucdist_R(M)   0.006   0.1667\n",
      "4 fastdist2_R(M)   0.001   1.0000\n",
      "\n",
      " **************************************************************************************************** \n",
      "\n",
      "25 by 2 \n",
      "            test elapsed relative\n",
      "3        dist(M)   0.001   1.0000\n",
      "1     dotprod(M)   0.020   0.0500\n",
      "5   eucdist_C(M)   0.001   1.0000\n",
      "2   eucdist_R(M)   0.018   0.0556\n",
      "4 fastdist2_R(M)   0.001   1.0000\n",
      "\n",
      "\n",
      " **************************************************************************************************** \n",
      "50 by 2 \n",
      "            test elapsed relative\n",
      "3        dist(M)   0.002   1.0000\n",
      "1     dotprod(M)   0.128   0.0156\n",
      "5   eucdist_C(M)   0.001   2.0000\n",
      "2   eucdist_R(M)   0.113   0.0177\n",
      "4 fastdist2_R(M)   0.005   0.4000\n",
      "\n",
      " **************************************************************************************************** \n",
      "75 by 2 \n",
      "            test elapsed relative\n",
      "3        dist(M)   0.003    1.000\n",
      "1     dotprod(M)   0.249    0.012\n",
      "5   eucdist_C(M)   0.002    1.500\n",
      "2   eucdist_R(M)   0.251    0.012\n",
      "4 fastdist2_R(M)   0.012    0.250\n",
      "\n",
      " **************************************************************************************************** \n",
      "100 by 2 \n",
      "            test elapsed relative\n",
      "3        dist(M)   0.004   1.0000\n",
      "1     dotprod(M)   0.445   0.0090\n",
      "5   eucdist_C(M)   0.002   2.0000\n",
      "2   eucdist_R(M)   0.415   0.0096\n",
      "4 fastdist2_R(M)   0.018   0.2222\n",
      "\n",
      " **************************************************************************************************** \n",
      "500 by 2 \n",
      "            test elapsed relative\n",
      "3        dist(M)   0.068   1.0000\n",
      "1     dotprod(M)  11.017   0.0062\n",
      "5   eucdist_C(M)   0.024   2.8333\n",
      "2   eucdist_R(M)  10.531   0.0065\n",
      "4 fastdist2_R(M)   0.387   0.1757\n",
      "\n",
      " **************************************************************************************************** \n",
      "1000 by 2 \n",
      "            test elapsed relative\n",
      "3        dist(M)   0.206   1.0000\n",
      "1     dotprod(M)  38.657   0.0053\n",
      "5   eucdist_C(M)   0.071   2.9014\n",
      "2   eucdist_R(M)  29.485   0.0070\n",
      "4 fastdist2_R(M)   1.103   0.1868\n",
      "\n",
      " **************************************************************************************************** \n",
      "2500 by 2 \n",
      "            test elapsed relative\n",
      "3        dist(M)   1.372   1.0000\n",
      "1     dotprod(M) 192.389   0.0071\n",
      "5   eucdist_C(M)   0.736   1.8641\n",
      "2   eucdist_R(M) 183.323   0.0075\n",
      "4 fastdist2_R(M)   7.197   0.1906\n",
      "\n",
      " **************************************************************************************************** \n",
      "3000 by 2 \n",
      "            test elapsed relative\n",
      "3        dist(M)   1.975   1.0000\n",
      "1     dotprod(M) 281.196   0.0070\n",
      "5   eucdist_C(M)   1.079   1.8304\n",
      "2   eucdist_R(M) 272.122   0.0073\n",
      "4 fastdist2_R(M)  10.329   0.1912\n",
      "\n",
      " **************************************************************************************************** \n",
      "5000 by 2 \n",
      "            test elapsed relative\n",
      "3        dist(M)   5.922   1.0000\n",
      "1     dotprod(M) 836.603   0.0071\n",
      "5   eucdist_C(M)   3.111   1.9036\n",
      "2   eucdist_R(M) 782.654   0.0076\n",
      "4 fastdist2_R(M)  29.014   0.2041\n",
      "\n",
      " **************************************************************************************************** \n"
     ]
    }
   ],
   "source": [
    "%%bash\n",
    "cat out_compareAf.txt "
   ]
  },
  {
   "cell_type": "code",
   "execution_count": 40,
   "metadata": {},
   "outputs": [
    {
     "data": {
      "text/html": [
       "<pre class=language-r><code>function (x, method = \"euclidean\", diag = FALSE, upper = FALSE, \n",
       "<span style=white-space:pre-wrap>    p = 2) </span>\n",
       "{\n",
       "<span style=white-space:pre-wrap>    if (!is.na(pmatch(method, \"euclidian\"))) </span>\n",
       "<span style=white-space:pre-wrap>        method &lt;- \"euclidean\"</span>\n",
       "<span style=white-space:pre-wrap>    METHODS &lt;- c(\"euclidean\", \"maximum\", \"manhattan\", \"canberra\", </span>\n",
       "<span style=white-space:pre-wrap>        \"binary\", \"minkowski\")</span>\n",
       "<span style=white-space:pre-wrap>    method &lt;- pmatch(method, METHODS)</span>\n",
       "<span style=white-space:pre-wrap>    if (is.na(method)) </span>\n",
       "<span style=white-space:pre-wrap>        stop(\"invalid distance method\")</span>\n",
       "<span style=white-space:pre-wrap>    if (method == -1) </span>\n",
       "<span style=white-space:pre-wrap>        stop(\"ambiguous distance method\")</span>\n",
       "<span style=white-space:pre-wrap>    x &lt;- as.matrix(x)</span>\n",
       "<span style=white-space:pre-wrap>    N &lt;- nrow(x)</span>\n",
       "<span style=white-space:pre-wrap>    attrs &lt;- if (method == 6L) </span>\n",
       "<span style=white-space:pre-wrap>        list(Size = N, Labels = dimnames(x)[[1L]], Diag = diag, </span>\n",
       "<span style=white-space:pre-wrap>            Upper = upper, method = METHODS[method], p = p, call = match.call(), </span>\n",
       "<span style=white-space:pre-wrap>            class = \"dist\")</span>\n",
       "<span style=white-space:pre-wrap>    else list(Size = N, Labels = dimnames(x)[[1L]], Diag = diag, </span>\n",
       "<span style=white-space:pre-wrap>        Upper = upper, method = METHODS[method], call = match.call(), </span>\n",
       "<span style=white-space:pre-wrap>        class = \"dist\")</span>\n",
       "<span style=white-space:pre-wrap>    .Call(C_Cdist, x, method, attrs, p)</span>\n",
       "}</code></pre>"
      ],
      "text/latex": [
       "\\begin{minted}{r}\n",
       "function (x, method = \"euclidean\", diag = FALSE, upper = FALSE, \n",
       "    p = 2) \n",
       "\\{\n",
       "    if (!is.na(pmatch(method, \"euclidian\"))) \n",
       "        method <- \"euclidean\"\n",
       "    METHODS <- c(\"euclidean\", \"maximum\", \"manhattan\", \"canberra\", \n",
       "        \"binary\", \"minkowski\")\n",
       "    method <- pmatch(method, METHODS)\n",
       "    if (is.na(method)) \n",
       "        stop(\"invalid distance method\")\n",
       "    if (method == -1) \n",
       "        stop(\"ambiguous distance method\")\n",
       "    x <- as.matrix(x)\n",
       "    N <- nrow(x)\n",
       "    attrs <- if (method == 6L) \n",
       "        list(Size = N, Labels = dimnames(x){[}{[}1L{]}{]}, Diag = diag, \n",
       "            Upper = upper, method = METHODS{[}method{]}, p = p, call = match.call(), \n",
       "            class = \"dist\")\n",
       "    else list(Size = N, Labels = dimnames(x){[}{[}1L{]}{]}, Diag = diag, \n",
       "        Upper = upper, method = METHODS{[}method{]}, call = match.call(), \n",
       "        class = \"dist\")\n",
       "    .Call(C\\_Cdist, x, method, attrs, p)\n",
       "\\}\n",
       "\\end{minted}"
      ],
      "text/markdown": [
       "```r\n",
       "function (x, method = \"euclidean\", diag = FALSE, upper = FALSE, \n",
       "    p = 2) \n",
       "{\n",
       "    if (!is.na(pmatch(method, \"euclidian\"))) \n",
       "        method <- \"euclidean\"\n",
       "    METHODS <- c(\"euclidean\", \"maximum\", \"manhattan\", \"canberra\", \n",
       "        \"binary\", \"minkowski\")\n",
       "    method <- pmatch(method, METHODS)\n",
       "    if (is.na(method)) \n",
       "        stop(\"invalid distance method\")\n",
       "    if (method == -1) \n",
       "        stop(\"ambiguous distance method\")\n",
       "    x <- as.matrix(x)\n",
       "    N <- nrow(x)\n",
       "    attrs <- if (method == 6L) \n",
       "        list(Size = N, Labels = dimnames(x)[[1L]], Diag = diag, \n",
       "            Upper = upper, method = METHODS[method], p = p, call = match.call(), \n",
       "            class = \"dist\")\n",
       "    else list(Size = N, Labels = dimnames(x)[[1L]], Diag = diag, \n",
       "        Upper = upper, method = METHODS[method], call = match.call(), \n",
       "        class = \"dist\")\n",
       "    .Call(C_Cdist, x, method, attrs, p)\n",
       "}\n",
       "```"
      ],
      "text/plain": [
       "function (x, method = \"euclidean\", diag = FALSE, upper = FALSE, \n",
       "    p = 2) \n",
       "{\n",
       "    if (!is.na(pmatch(method, \"euclidian\"))) \n",
       "        method <- \"euclidean\"\n",
       "    METHODS <- c(\"euclidean\", \"maximum\", \"manhattan\", \"canberra\", \n",
       "        \"binary\", \"minkowski\")\n",
       "    method <- pmatch(method, METHODS)\n",
       "    if (is.na(method)) \n",
       "        stop(\"invalid distance method\")\n",
       "    if (method == -1) \n",
       "        stop(\"ambiguous distance method\")\n",
       "    x <- as.matrix(x)\n",
       "    N <- nrow(x)\n",
       "    attrs <- if (method == 6L) \n",
       "        list(Size = N, Labels = dimnames(x)[[1L]], Diag = diag, \n",
       "            Upper = upper, method = METHODS[method], p = p, call = match.call(), \n",
       "            class = \"dist\")\n",
       "    else list(Size = N, Labels = dimnames(x)[[1L]], Diag = diag, \n",
       "        Upper = upper, method = METHODS[method], call = match.call(), \n",
       "        class = \"dist\")\n",
       "    .Call(C_Cdist, x, method, attrs, p)\n",
       "}\n",
       "<bytecode: 0x55fcf8fedd98>\n",
       "<environment: namespace:stats>"
      ]
     },
     "metadata": {},
     "output_type": "display_data"
    }
   ],
   "source": [
    "dist # the .Call bit is using R's C API to call a C function"
   ]
  },
  {
   "cell_type": "markdown",
   "metadata": {},
   "source": [
    "# Grouped"
   ]
  },
  {
   "cell_type": "markdown",
   "metadata": {},
   "source": [
    "In R, the following functions were written for grouped distance calculation. Each of the function takes three input: M (the matrix), group_vec(grouping vector) and format_output (a logical, if TRUE coverts the output in eah group into a dist object)\n",
    "1. eucdist: This funtion is written to accept a function FUN that can calculate distances for any given matrix. it does this for all groupes and return the output as a list indexed by the names of the groups. it can used to called the funtions eucdist_C, eucdist_R, dist, fastdist2 on a grouped matrix.\n",
    "2. eucdist_DT: This uses data.table to call a function for calculating distances on a matrix on all groups. The ouput is a data.table. For efficincy, the eucdist_C is used since it is the fastest for ungrouped.\n",
    "3. eucdist_group_C: This is the function where the looping over groups is done in C."
   ]
  },
  {
   "cell_type": "markdown",
   "metadata": {},
   "source": [
    "### eucdist"
   ]
  },
  {
   "cell_type": "code",
   "execution_count": 11,
   "metadata": {},
   "outputs": [],
   "source": [
    "%%R\n",
    "eucdist <- function(M, group_vec=NULL, format_output=FALSE, FUN = \"eucdist_C\"){\n",
    "    f = match.fun(FUN)\n",
    "    ifelse(is.null(group_vec), ifelse(format_output, return(mefa::vec2dist(f(M), nrow(M))), return(f(M))), \"\")\n",
    "    \n",
    "    unique_groups <- sort(unique(group_vec)) # all unique groups\n",
    "    for_one_group <- function(group_used){\n",
    "        row_index <- group_vec==group_used\n",
    "        if(sum(row_index) <=1) return(NULL)\n",
    "        # if(length(row_index)==1) return()\n",
    "        output = f(M[row_index, ])\n",
    "        if(format_output) return(mefa::vec2dist(output, sum(row_index)))\n",
    "        \n",
    "        return(output)\n",
    "    }\n",
    "    names(unique_groups) <- unique_groups\n",
    "    sapply(unique_groups, for_one_group, simplify = \"array\")\n",
    "    \n",
    "\n",
    "}\n"
   ]
  },
  {
   "cell_type": "markdown",
   "metadata": {},
   "source": [
    "### eucdist_DT"
   ]
  },
  {
   "cell_type": "code",
   "execution_count": 10,
   "metadata": {},
   "outputs": [
    {
     "name": "stderr",
     "output_type": "stream",
     "text": [
      "R[write to console]: Loading required package: data.table\n",
      "\n"
     ]
    }
   ],
   "source": [
    "%%R\n",
    "require(data.table)\n",
    "eucdist_DT <- function(M, group_vec, func=\"eucdist_C\"){\n",
    "    f = match.fun(func)\n",
    "    M <- data.table(M, group_vec)\n",
    "    output <- M[, f(.SD), by=group_vec][order(group_vec)]\n",
    "    return(output)\n",
    "\n",
    "}"
   ]
  },
  {
   "cell_type": "markdown",
   "metadata": {},
   "source": [
    "### eucdist_group_C"
   ]
  },
  {
   "cell_type": "code",
   "execution_count": 9,
   "metadata": {},
   "outputs": [
    {
     "name": "stdout",
     "output_type": "stream",
     "text": [
      "#include <math.h>\r\n",
      "#include <R.h>\r\n",
      "#include <Rinternals.h>\r\n",
      "#include <stdio.h>\r\n",
      "#include <stdlib.h>\r\n",
      "// #include <string.h>\r\n",
      "\r\n",
      "void eucdist_group(double *x, int *m, int *n, double *d, int *unique_group, int *l, int *group_vec, int *lg)\r\n",
      "{\r\n",
      "  /* Arguement:\r\n",
      "    1.  x is a matrix of dimension n by m\r\n",
      "    2.  m is the number of rows\r\n",
      "    3.  n is the number of coloums\r\n",
      "    4.  d is the pointer for output \r\n",
      "    5.  unique_group is the pointer for the unique groups\r\n",
      "    6.  l is the number of elements in the unique groups\r\n",
      "    7.  group_vec is the grouping vector(\r\n",
      "      it's length must be the same as the number of rows of x)\r\n",
      "    */\r\n",
      "\r\n",
      "  /*\r\n",
      "  counter: for picking out the indices of a group\r\n",
      "  indexer1: for filling the vector containing the indicies of where a particular group occurs\r\n",
      "  indexer2: for indexing the output vector d\r\n",
      "   */\r\n",
      "\r\n",
      "  \r\n",
      "  int local_m = *m, local_n = *n, counter = 0, unique_length = *l, \r\n",
      "  indexer1, indexer2 = 0, g, h, i, j, k, XI, XJ, XI0, group_length;\r\n",
      "  double theSum; \r\n",
      "\r\n",
      "  for(i=0; i < unique_length; i++){\r\n",
      "    group_length = lg[i];\r\n",
      "    int group_index[group_length];\r\n",
      "    counter = 0;\r\n",
      "    indexer1 = -1;\r\n",
      "    for(j=0; j<local_m; j++, counter++){\r\n",
      "\r\n",
      "      if( unique_group[i] == group_vec[j] ){\r\n",
      "        indexer1 += 1;\r\n",
      "        group_index[indexer1] = counter;\r\n",
      "        \r\n",
      "      }\r\n",
      "    }\r\n",
      "      for(g=0; g < group_length; g++){\r\n",
      "          XI = local_n* group_index[g];\r\n",
      "          XI0 = XI;\r\n",
      "\r\n",
      "        for(h=g+1; h < group_length; h++){\r\n",
      "          XJ = local_n* group_index[h];\r\n",
      "\r\n",
      "          theSum = 0.0;\r\n",
      "          for (k=0;k<local_n;k++,++XI,++XJ){\r\n",
      "            theSum += pow((x[XI]- x[XJ]), 2.0);\r\n",
      "          }\r\n",
      "          XI = XI0;\r\n",
      "          d[indexer2++] = sqrt(theSum);\r\n",
      "\r\n",
      "        }\r\n",
      "      }\r\n",
      "      \r\n",
      "    }\r\n",
      "}\r\n"
     ]
    }
   ],
   "source": [
    "%%bash\n",
    "cat Group/eucdist_group.c"
   ]
  },
  {
   "cell_type": "code",
   "execution_count": 5,
   "metadata": {},
   "outputs": [
    {
     "name": "stdout",
     "output_type": "stream",
     "text": [
      "make: Nothing to be done for 'all'.\n"
     ]
    }
   ],
   "source": [
    "%%bash\n",
    "R CMD SHLIB Group/eucdist_group.c"
   ]
  },
  {
   "cell_type": "code",
   "execution_count": 8,
   "metadata": {},
   "outputs": [],
   "source": [
    "%%R\n",
    "# Using C with looping in C\n",
    "# system(\"R CMD SHLIB Group/eucdist_group.c\")\n",
    "\n",
    "# loading it into R\n",
    "dyn.load(\"Group/eucdist_group.so\")\n",
    "\n",
    "eucdist_group_C <- function(M, group_vec, format_output = FALSE) {\n",
    "    unique_group = sort(unique(group_vec))\n",
    "    tt = as.integer(table(group_vec))\n",
    "    tot_length = vapply(tt, function(n) n*(n-1)/2, 0)\n",
    "    l = length(unique_group)\n",
    "    ifelse(is.integer(group_vec), group_vec_int <- group_vec, group_vec_int <- as.numeric(as.factor(group_vec)))\n",
    "    nn <- 1:l\n",
    "    out <-.C(\"eucdist_group\",\n",
    "        x = as.vector(t(M), \"double\"),\n",
    "        m = as.integer(nrow(M)),\n",
    "        n = as.integer(ncol(M)),\n",
    "        d = vector(\"double\", sum(tot_length)),\n",
    "        unique_group = as.integer(nn),\n",
    "        l = as.integer(l),\n",
    "        group_vec = as.integer(group_vec_int),\n",
    "        lg = tt\n",
    "    )\n",
    "    output = split( out$d, rep(unique_group, tot_length) )\n",
    "    Nm <- names(output)\n",
    "    if(format_output){\n",
    "         # This function fornat the outputs as a dist object\n",
    "         f = function(i){\n",
    "                j <- which(Nm == i)\n",
    "                k <- which(unique_group == i)\n",
    "                mefa::vec2dist(output[[j]], tt[k])\n",
    "            } \n",
    "        return(sapply(Nm, f, simplify = \"array\"))\n",
    "\n",
    "    }\n",
    "    return(output)\n",
    "}\n"
   ]
  },
  {
   "cell_type": "markdown",
   "metadata": {},
   "source": [
    "# Testing for Consistency (Grouped)"
   ]
  },
  {
   "cell_type": "code",
   "execution_count": 3,
   "metadata": {},
   "outputs": [
    {
     "name": "stdout",
     "output_type": "stream",
     "text": [
      "           X1        X2         X3 group_vec\n",
      "1    1.795316  9.438713  2.9250484       one\n",
      "2   14.874291  8.442045 13.6458196       two\n",
      "3   17.383247 -4.707524 17.6853292       two\n",
      "4   15.757814  5.218499  8.8765379     three\n",
      "5    6.946116 14.179416 18.8110773       one\n",
      "6   25.117812 23.586796 13.9810588     three\n",
      "7   13.898432  8.972123  3.8797361     three\n",
      "8    3.787594 13.876716 13.4111969       two\n",
      "9  -12.146999  9.461950 -1.2936310       two\n",
      "10  21.249309 -3.770596 24.3302370       one\n",
      "11   9.550664  5.850054 29.8039990       one\n",
      "12   9.838097  6.057100  6.3277852       two\n",
      "13  19.438362  9.406866 -0.4413463       two\n",
      "14  18.212212 21.000254 15.6971963     three\n",
      "15  15.939013 17.631757  8.6494540       one\n",
      "16  19.189774  8.354764 34.0161776     three\n",
      "17  17.821363  7.466383  9.6076000     three\n",
      "18  10.745650 16.969634 16.8973936       two\n",
      "19  -9.893517 15.566632 10.2800216       two\n",
      "20  16.198257  3.112443  2.5672679       one\n"
     ]
    }
   ],
   "source": [
    "%%R\n",
    "source(\"R_code/functions.R\")\n",
    "set.seed(1)\n",
    "\n",
    "m = 20; n = 3; g = 3;\n",
    "# m : number of rows\n",
    "# n : number of colums\n",
    "# g : number of distint groups\n",
    "\n",
    "group_vec <- sample(c(\"one\", \"two\", \"three\"), 10, TRUE)\n",
    "M <- matrix(rnorm(m*n, 10, 10), ncol = n)\n",
    "data.frame(M, group_vec)"
   ]
  },
  {
   "cell_type": "code",
   "execution_count": 12,
   "metadata": {},
   "outputs": [
    {
     "name": "stdout",
     "output_type": "stream",
     "text": [
      "Using FUN =  dist \n",
      "$one\n",
      "         1        2\n",
      "2 17.36004         \n",
      "3 31.79820 28.20464\n",
      "\n",
      "$three\n",
      "          1         2\n",
      "2 21.238173          \n",
      "3  6.520354 17.366900\n",
      "\n",
      "$two\n",
      "          1         2         3\n",
      "2 13.982977                    \n",
      "3 12.349313  9.198088          \n",
      "4 30.893000 14.839470 10.016895\n",
      "\n",
      "\n",
      "\n",
      "Using FUN =  dotprod \n",
      "$one\n",
      "         1        2\n",
      "2 17.36004         \n",
      "3 31.79820 28.20464\n",
      "\n",
      "$three\n",
      "          1         2\n",
      "2 21.238173          \n",
      "3  6.520354 17.366900\n",
      "\n",
      "$two\n",
      "          1         2         3\n",
      "2 13.982977                    \n",
      "3 12.349313  9.198088          \n",
      "4 30.893000 14.839470 10.016895\n",
      "\n",
      "\n",
      "\n",
      "Using FUN =  eucdist_C \n",
      "$one\n",
      "         1        2\n",
      "2 17.36004         \n",
      "3 31.79820 28.20464\n",
      "\n",
      "$three\n",
      "          1         2\n",
      "2 21.238173          \n",
      "3  6.520354 17.366900\n",
      "\n",
      "$two\n",
      "          1         2         3\n",
      "2 13.982977                    \n",
      "3 12.349313  9.198088          \n",
      "4 30.893000 14.839470 10.016895\n",
      "\n",
      "\n",
      "\n",
      "Using FUN =  eucdist_R \n",
      "$one\n",
      "         1        2\n",
      "2 17.36004         \n",
      "3 31.79820 28.20464\n",
      "\n",
      "$three\n",
      "          1         2\n",
      "2 21.238173          \n",
      "3  6.520354 17.366900\n",
      "\n",
      "$two\n",
      "          1         2         3\n",
      "2 13.982977                    \n",
      "3 12.349313  9.198088          \n",
      "4 30.893000 14.839470 10.016895\n",
      "\n",
      "\n",
      "\n",
      "Using FUN =  fastdist2 \n",
      "$one\n",
      "         1        2\n",
      "2 17.36004         \n",
      "3 31.79820 28.20464\n",
      "\n",
      "$three\n",
      "          1         2\n",
      "2 21.238173          \n",
      "3  6.520354 17.366900\n",
      "\n",
      "$two\n",
      "          1         2         3\n",
      "2 13.982977                    \n",
      "3 12.349313  9.198088          \n",
      "4 30.893000 14.839470 10.016895\n",
      "\n",
      "\n",
      "\n",
      "\n",
      "\n",
      "Using data.table\n"
     ]
    },
    {
     "name": "stderr",
     "output_type": "stream",
     "text": [
      "R[write to console]: Error in eucdist_DT(M, group_vec) : could not find function \"eucdist_DT\"\n",
      "Calls: <Anonymous> -> <Anonymous> -> withVisible\n",
      "\n",
      "R[write to console]: In addition: \n",
      "R[write to console]: There were 15 warnings (use warnings() to see them)\n",
      "R[write to console]: \n",
      "\n"
     ]
    },
    {
     "name": "stdout",
     "output_type": "stream",
     "text": [
      "\n",
      "Error in eucdist_DT(M, group_vec) : could not find function \"eucdist_DT\"\n",
      "Calls: <Anonymous> -> <Anonymous> -> withVisible\n"
     ]
    }
   ],
   "source": [
    "%%R\n",
    "funcs <- c(\"dist\", \"dotprod\", \"eucdist_C\", \"eucdist_R\", \"fastdist2\")\n",
    "for(FUN in funcs){\n",
    "    cat(\"Using FUN = \", FUN, \"\\n\")\n",
    "    print(eucdist(M, group_vec, FUN = FUN, format_output = TRUE))\n",
    "    cat(\"\\n\\n\")\n",
    "}\n",
    "\n",
    "cat(\"\\n\\nUsing data.table\\n\")\n",
    "eucdist_DT(M, group_vec)"
   ]
  },
  {
   "cell_type": "code",
   "execution_count": 15,
   "metadata": {},
   "outputs": [
    {
     "name": "stdout",
     "output_type": "stream",
     "text": [
      "With the looping in C\n",
      "$one\n",
      "         1        2\n",
      "2 17.36004         \n",
      "3 31.79820 23.60604\n",
      "\n",
      "$three\n",
      "          1         2\n",
      "2 21.238173          \n",
      "3  6.520354 21.011898\n",
      "\n",
      "$two\n",
      "         1        2        3\n",
      "2 13.98298                  \n",
      "3 12.34931 23.41973         \n",
      "4 30.89300 37.85512 22.12766\n",
      "\n"
     ]
    }
   ],
   "source": [
    "%%R\n",
    "cat(\"With the looping in C\\n\")\n",
    "(eucdist_group_C(M, group_vec, format_output = TRUE))"
   ]
  },
  {
   "cell_type": "markdown",
   "metadata": {},
   "source": [
    "Note that all the functions allow both numeric and characters input as the grouping vector\n",
    "\n",
    "# Timings\n",
    "The timing are done with a n by 2 matrix where n is the number of rows. The group number is kept at 50 since this will allow the function to work on groups of bigger size as the n increases."
   ]
  },
  {
   "cell_type": "code",
   "execution_count": 11,
   "metadata": {},
   "outputs": [],
   "source": [
    "%%R\n",
    "# Note that the result for this has already been export to txt and rds file for reproducibility so\n",
    "# THIS WON'T RUN\n",
    "if(FALSE){\n",
    "set.seed(1)\n",
    "require('rbenchmark')\n",
    "if(file.exists(\"group_times.txt\")) system(\"rm group_times.txt\")\n",
    "sink(\"group_times.txt\", append = TRUE)\n",
    "\n",
    "nrows = sort(c(500, 1000, 2000, 3000, 5000, 7000, 10000, 15000, 20000, 25000, 30000, 40000))\n",
    "\n",
    "# nrows = sort(c(40000, 50000))\n",
    "\n",
    "\n",
    "funcs <- c(\"dist\", \"dotprod\", \"eucdist_C\", \"eucdist_R\", \"fastdist2\", \"eucdist_DT\", \"eucdist_c_loop\")\n",
    "time_base <- numeric(length(funcs)); j = 1\n",
    "# l <- length(funcs)\n",
    "Grelative_times <- data.frame(row.names = sort(funcs))\n",
    "col_index = 1 # for indexing the columns of the relative time dataframe\n",
    "cat(\"This records the average times for 25 executions of each function\\n\")\n",
    "for(i in nrows){\n",
    "    cat(i, \"by\", 2, \"\\n\")\n",
    "    M <- matrix(rnorm(i*2, 2, 10), ncol = 2)\n",
    "    group_vec <- sample(1:50, i, T)\n",
    "    #print(M)\n",
    "    timer <- benchmark(\n",
    "                dotprod = eucdist(M, group_vec, FUN = \"dotprod\"),\n",
    "                eucdist_R = eucdist(M, group_vec, FUN = \"eucdist_R\"),\n",
    "                dist = eucdist(M, group_vec, FUN = \"dist\"),\n",
    "                fastdist2 = eucdist(M, group_vec, FUN = \"fastdist2\"),\n",
    "                eucdist_C = eucdist(M, group_vec, FUN = \"eucdist_C\"),\n",
    "                eucdist_c_loop = eucdist_group_C(M, group_vec),\n",
    "                eucdist_DT = eucdist_DT(M, group_vec),\n",
    "                columns = c(\"test\", \"elapsed\"),\n",
    "                replications = 25\n",
    "        )\n",
    "    \n",
    "    t_base = timer$elapsed[1] # time for dist(M), the base R function\n",
    "    time_base[j] = t_base; j <- j + 1\n",
    "    relative_now <- round(t_base/timer$elapsed, 4)\n",
    "    Grelative_times[col_index] <- relative_now \n",
    "    col_index <- col_index + 1\n",
    "    timer$relative <- relative_now\n",
    "    # row.names(timer) <- funcs \n",
    "    print(timer)\n",
    "    cat(\"\\n\", paste(rep(\"*\", 100), collapse = \"\"), \"\\n\")\n",
    "}\n",
    "names(Grelative_times) <- nrows\n",
    "row.names(Grelative_times) <- sort(funcs)\n",
    "saveRDS(Grelative_times, file = \"Group_times.rds\")\n",
    "sink()\n",
    "saveRDS(time_base, \"BaseR_times.rds\")\n",
    "\n",
    "}"
   ]
  },
  {
   "cell_type": "code",
   "execution_count": 1,
   "metadata": {},
   "outputs": [
    {
     "name": "stderr",
     "output_type": "stream",
     "text": [
      "Loading required package: ggplot2\n",
      "Loading required package: ggrepel\n",
      "Loading required package: repr\n"
     ]
    }
   ],
   "source": [
    "\n",
    "require(ggplot2); require(ggrepel); require(repr)\n",
    "group_time <- as.data.frame((readRDS(\"Group_times.rds\")))\n",
    "time_base <- readRDS(\"BaseR_times.rds\")\n",
    "n <- as.numeric(row.names(group_time))\n",
    "g <- ggplot(data = group_time, aes(x=n))\n",
    "g1 = g + geom_line(aes(y = dotprod, color = \"dotprod\"))+ geom_line(aes(y = eucdist_C, color = \"eucdist_C\"))\n",
    "g2 = g1 + geom_line(aes(y = dist, color = \"dist\")) + geom_line(aes(y = eucdist_R, color = \"eucdist_R\")) + geom_line(aes(y = eucdist_c_loop, color = \"eucdist_c_loop\"))\n",
    "g3 <- g2 + geom_line(aes(y = fastdist2, color = \"fastdist2\")) + geom_line(aes(y = eucdist_DT, color=\"eucdist_DT\"))\n",
    "g4 <- g3 + scale_color_manual(NULL, \n",
    "            values=c(dotprod = \"green\", eucdist_R = \"cyan\", dist= \"black\", \n",
    "            fastdist2 = \"darkblue\", eucdist_C = \"red\", eucdist_c_loop = \"orange\", eucdist_DT = \"yellow\")) +  \n",
    "            theme(legend.text = element_text(size=18)) + labs(y =\"Times\", x = \"Nrows\") + annotate(\"point\", x = n, y = 1, color = \"blue\", size=3) + geom_text_repel(aes(x = n, y = 1, label = round(time_base, 4)))\n"
   ]
  },
  {
   "cell_type": "code",
   "execution_count": 3,
   "metadata": {},
   "outputs": [
    {
     "data": {
      "image/png": "[encoded data removed]",
      "text/plain": [
       "plot without title"
      ]
     },
     "metadata": {},
     "output_type": "display_data"
    }
   ],
   "source": [
    "\n",
    "options(repr.plot.width=15, repr.plot.height = 10)\n",
    "g4"
   ]
  },
  {
   "cell_type": "code",
   "execution_count": 11,
   "metadata": {},
   "outputs": [
    {
     "name": "stderr",
     "output_type": "stream",
     "text": [
      "Warning message:\n",
      "“Removed 2 rows containing missing values (geom_path).”Warning message:\n",
      "“Removed 2 rows containing missing values (geom_path).”"
     ]
    },
    {
     "data": {
      "image/png": "[encoded data removed]",
      "text/plain": [
       "plot without title"
      ]
     },
     "metadata": {},
     "output_type": "display_data"
    }
   ],
   "source": [
    "g5 = g + geom_line(aes(y = dotprod, color = \"dotprod\")) + \n",
    "    geom_line(aes(y = eucdist_R, color = \"eucdist_R\")) +  scale_color_manual(NULL, \n",
    "    values=c(dotprod = \"green\", eucdist_R = \"cyan\")) + \n",
    "    theme(legend.text = element_text(size=14)) + ylim(0.005, 0.026) + labs(y =\"Relative Times\", x = \"Number of rows\")\n",
    "g5"
   ]
  },
  {
   "cell_type": "code",
   "execution_count": 7,
   "metadata": {},
   "outputs": [
    {
     "name": "stdout",
     "output_type": "stream",
     "text": [
      "Relative Times"
     ]
    },
    {
     "data": {
      "text/html": [
       "<table>\n",
       "<caption>A data.frame: 12 × 8</caption>\n",
       "<thead>\n",
       "\t<tr><th></th><th scope=col>dist</th><th scope=col>dotprod</th><th scope=col>eucdist_C</th><th scope=col>eucdist_c_loop</th><th scope=col>eucdist_DT</th><th scope=col>eucdist_R</th><th scope=col>fastdist2</th><th scope=col>baseR_times</th></tr>\n",
       "\t<tr><th></th><th scope=col>&lt;dbl&gt;</th><th scope=col>&lt;dbl&gt;</th><th scope=col>&lt;dbl&gt;</th><th scope=col>&lt;dbl&gt;</th><th scope=col>&lt;dbl&gt;</th><th scope=col>&lt;dbl&gt;</th><th scope=col>&lt;dbl&gt;</th><th scope=col>&lt;dbl&gt;</th></tr>\n",
       "</thead>\n",
       "<tbody>\n",
       "\t<tr><th scope=row>500</th><td>1</td><td>0.1890</td><td>0.9394</td><td>1.9375</td><td>0.3758</td><td>0.1851</td><td>2.2143</td><td>0.062</td></tr>\n",
       "\t<tr><th scope=row>1000</th><td>1</td><td>0.0604</td><td>1.2553</td><td>1.0351</td><td>0.3491</td><td>0.0604</td><td>1.1132</td><td>0.059</td></tr>\n",
       "\t<tr><th scope=row>2000</th><td>1</td><td>0.0217</td><td>1.4909</td><td>0.4556</td><td>0.4271</td><td>0.0230</td><td>0.5430</td><td>0.082</td></tr>\n",
       "\t<tr><th scope=row>3000</th><td>1</td><td>0.0141</td><td>1.7206</td><td>0.3421</td><td>0.5467</td><td>0.0151</td><td>0.3703</td><td>0.117</td></tr>\n",
       "\t<tr><th scope=row>5000</th><td>1</td><td>0.0101</td><td>2.1215</td><td>0.2172</td><td>0.7184</td><td>0.0106</td><td>0.2738</td><td>0.227</td></tr>\n",
       "\t<tr><th scope=row>7000</th><td>1</td><td>0.0083</td><td>2.4730</td><td>0.1890</td><td>0.6455</td><td>0.0088</td><td>0.2327</td><td>0.366</td></tr>\n",
       "\t<tr><th scope=row>10000</th><td>1</td><td>0.0077</td><td>3.0220</td><td>0.1883</td><td>0.7345</td><td>0.0080</td><td>0.2130</td><td>0.686</td></tr>\n",
       "\t<tr><th scope=row>15000</th><td>1</td><td>0.0072</td><td>3.1438</td><td>0.1754</td><td>0.7631</td><td>0.0076</td><td>0.2043</td><td>1.443</td></tr>\n",
       "\t<tr><th scope=row>20000</th><td>1</td><td>0.0070</td><td>3.6701</td><td>0.1670</td><td>0.6816</td><td>0.0073</td><td>0.1990</td><td>2.481</td></tr>\n",
       "\t<tr><th scope=row>25000</th><td>1</td><td>0.0067</td><td>3.7819</td><td>0.1592</td><td>0.6709</td><td>0.0070</td><td>0.1918</td><td>3.729</td></tr>\n",
       "\t<tr><th scope=row>30000</th><td>1</td><td>0.0066</td><td>3.8400</td><td>0.1489</td><td>0.6251</td><td>0.0071</td><td>0.1923</td><td>5.449</td></tr>\n",
       "\t<tr><th scope=row>40000</th><td>1</td><td>0.0060</td><td>3.6119</td><td>0.1499</td><td>0.5696</td><td>0.0067</td><td>0.1956</td><td>6.942</td></tr>\n",
       "</tbody>\n",
       "</table>\n"
      ],
      "text/latex": [
       "A data.frame: 12 × 8\n",
       "\\begin{tabular}{r|llllllll}\n",
       "  & dist & dotprod & eucdist\\_C & eucdist\\_c\\_loop & eucdist\\_DT & eucdist\\_R & fastdist2 & baseR\\_times\\\\\n",
       "  & <dbl> & <dbl> & <dbl> & <dbl> & <dbl> & <dbl> & <dbl> & <dbl>\\\\\n",
       "\\hline\n",
       "\t500 & 1 & 0.1890 & 0.9394 & 1.9375 & 0.3758 & 0.1851 & 2.2143 & 0.062\\\\\n",
       "\t1000 & 1 & 0.0604 & 1.2553 & 1.0351 & 0.3491 & 0.0604 & 1.1132 & 0.059\\\\\n",
       "\t2000 & 1 & 0.0217 & 1.4909 & 0.4556 & 0.4271 & 0.0230 & 0.5430 & 0.082\\\\\n",
       "\t3000 & 1 & 0.0141 & 1.7206 & 0.3421 & 0.5467 & 0.0151 & 0.3703 & 0.117\\\\\n",
       "\t5000 & 1 & 0.0101 & 2.1215 & 0.2172 & 0.7184 & 0.0106 & 0.2738 & 0.227\\\\\n",
       "\t7000 & 1 & 0.0083 & 2.4730 & 0.1890 & 0.6455 & 0.0088 & 0.2327 & 0.366\\\\\n",
       "\t10000 & 1 & 0.0077 & 3.0220 & 0.1883 & 0.7345 & 0.0080 & 0.2130 & 0.686\\\\\n",
       "\t15000 & 1 & 0.0072 & 3.1438 & 0.1754 & 0.7631 & 0.0076 & 0.2043 & 1.443\\\\\n",
       "\t20000 & 1 & 0.0070 & 3.6701 & 0.1670 & 0.6816 & 0.0073 & 0.1990 & 2.481\\\\\n",
       "\t25000 & 1 & 0.0067 & 3.7819 & 0.1592 & 0.6709 & 0.0070 & 0.1918 & 3.729\\\\\n",
       "\t30000 & 1 & 0.0066 & 3.8400 & 0.1489 & 0.6251 & 0.0071 & 0.1923 & 5.449\\\\\n",
       "\t40000 & 1 & 0.0060 & 3.6119 & 0.1499 & 0.5696 & 0.0067 & 0.1956 & 6.942\\\\\n",
       "\\end{tabular}\n"
      ],
      "text/markdown": [
       "\n",
       "A data.frame: 12 × 8\n",
       "\n",
       "| <!--/--> | dist &lt;dbl&gt; | dotprod &lt;dbl&gt; | eucdist_C &lt;dbl&gt; | eucdist_c_loop &lt;dbl&gt; | eucdist_DT &lt;dbl&gt; | eucdist_R &lt;dbl&gt; | fastdist2 &lt;dbl&gt; | baseR_times &lt;dbl&gt; |\n",
       "|---|---|---|---|---|---|---|---|---|\n",
       "| 500 | 1 | 0.1890 | 0.9394 | 1.9375 | 0.3758 | 0.1851 | 2.2143 | 0.062 |\n",
       "| 1000 | 1 | 0.0604 | 1.2553 | 1.0351 | 0.3491 | 0.0604 | 1.1132 | 0.059 |\n",
       "| 2000 | 1 | 0.0217 | 1.4909 | 0.4556 | 0.4271 | 0.0230 | 0.5430 | 0.082 |\n",
       "| 3000 | 1 | 0.0141 | 1.7206 | 0.3421 | 0.5467 | 0.0151 | 0.3703 | 0.117 |\n",
       "| 5000 | 1 | 0.0101 | 2.1215 | 0.2172 | 0.7184 | 0.0106 | 0.2738 | 0.227 |\n",
       "| 7000 | 1 | 0.0083 | 2.4730 | 0.1890 | 0.6455 | 0.0088 | 0.2327 | 0.366 |\n",
       "| 10000 | 1 | 0.0077 | 3.0220 | 0.1883 | 0.7345 | 0.0080 | 0.2130 | 0.686 |\n",
       "| 15000 | 1 | 0.0072 | 3.1438 | 0.1754 | 0.7631 | 0.0076 | 0.2043 | 1.443 |\n",
       "| 20000 | 1 | 0.0070 | 3.6701 | 0.1670 | 0.6816 | 0.0073 | 0.1990 | 2.481 |\n",
       "| 25000 | 1 | 0.0067 | 3.7819 | 0.1592 | 0.6709 | 0.0070 | 0.1918 | 3.729 |\n",
       "| 30000 | 1 | 0.0066 | 3.8400 | 0.1489 | 0.6251 | 0.0071 | 0.1923 | 5.449 |\n",
       "| 40000 | 1 | 0.0060 | 3.6119 | 0.1499 | 0.5696 | 0.0067 | 0.1956 | 6.942 |\n",
       "\n"
      ],
      "text/plain": [
       "      dist dotprod eucdist_C eucdist_c_loop eucdist_DT eucdist_R fastdist2\n",
       "500   1    0.1890  0.9394    1.9375         0.3758     0.1851    2.2143   \n",
       "1000  1    0.0604  1.2553    1.0351         0.3491     0.0604    1.1132   \n",
       "2000  1    0.0217  1.4909    0.4556         0.4271     0.0230    0.5430   \n",
       "3000  1    0.0141  1.7206    0.3421         0.5467     0.0151    0.3703   \n",
       "5000  1    0.0101  2.1215    0.2172         0.7184     0.0106    0.2738   \n",
       "7000  1    0.0083  2.4730    0.1890         0.6455     0.0088    0.2327   \n",
       "10000 1    0.0077  3.0220    0.1883         0.7345     0.0080    0.2130   \n",
       "15000 1    0.0072  3.1438    0.1754         0.7631     0.0076    0.2043   \n",
       "20000 1    0.0070  3.6701    0.1670         0.6816     0.0073    0.1990   \n",
       "25000 1    0.0067  3.7819    0.1592         0.6709     0.0070    0.1918   \n",
       "30000 1    0.0066  3.8400    0.1489         0.6251     0.0071    0.1923   \n",
       "40000 1    0.0060  3.6119    0.1499         0.5696     0.0067    0.1956   \n",
       "      baseR_times\n",
       "500   0.062      \n",
       "1000  0.059      \n",
       "2000  0.082      \n",
       "3000  0.117      \n",
       "5000  0.227      \n",
       "7000  0.366      \n",
       "10000 0.686      \n",
       "15000 1.443      \n",
       "20000 2.481      \n",
       "25000 3.729      \n",
       "30000 5.449      \n",
       "40000 6.942      "
      ]
     },
     "metadata": {},
     "output_type": "display_data"
    }
   ],
   "source": [
    "group_time$baseR_times <- time_base\n",
    "cat(\"Relative Times\")\n",
    "group_time"
   ]
  },
  {
   "cell_type": "markdown",
   "metadata": {},
   "source": [
    "# Conclusion (Grouped)"
   ]
  },
  {
   "cell_type": "markdown",
   "metadata": {},
   "source": [
    "Unsuprisingly the C function(eucdist_C) is doing better than the rest as the number of rows and consequently the number of rows/group is increaisng. The C function where the looping is done in C is unexpectedly slower. The data.table method offers some speed gains over the base R function, the C function with looping in C and the C++. It start dipping from about 15000 rows. This trend seemed to be the case upto 40000. For sufficiently large number of rows it might be slower probably close to a million. All the other function  repeat almost the same trend as in the ungrouped situation."
   ]
  },
  {
   "cell_type": "markdown",
   "metadata": {},
   "source": [
    "## Python"
   ]
  },
  {
   "cell_type": "markdown",
   "metadata": {},
   "source": [
    "In python, almost the same thing is done except that the C++ function was using R's data types and could not be loaded in python without significant changes. The functions wriiten are\n",
    "1. dot_prod_dist: using dot product\n",
    "2. e_dist: using vectorization\n",
    "3. dist: written in cython( C with python )\n",
    "Since there is no function in python that calculate distances, all comparison were made with respect to the e_dist function. Few tweaks were made to the eucdist.c used in R to make it work with cython."
   ]
  },
  {
   "cell_type": "code",
   "execution_count": 1,
   "metadata": {},
   "outputs": [],
   "source": [
    "from os import chdir\n",
    "chdir(\"CyPy\")"
   ]
  },
  {
   "cell_type": "code",
   "execution_count": 8,
   "metadata": {},
   "outputs": [
    {
     "name": "stdout",
     "output_type": "stream",
     "text": [
      "#include <math.h>\r\n",
      "#include <stdio.h>\r\n",
      "/* Euclidean distance */\r\n",
      "/*q=.C(\"eucdist\",as.integer(c(1,2,3,4,5,6,7,8)),as.integer(4),as.integer(2),as.double(vector(\"double\",6))*/\r\n",
      "int euc_dist(double *x, int m, int n, double *d)\r\n",
      "{\r\n",
      "  /* Arguement:\r\n",
      "    1.  x is a matrix of dimension n by m\r\n",
      "    2.  m is the number of rows\r\n",
      "    3.  n is the number of coloums\r\n",
      "    4.  d is the pointer for output */\r\n",
      "  /*\r\n",
      "   d = sqrt(sum((XI-XJ).^2,2));            % Euclidean\r\n",
      "   */\r\n",
      "  int i,j,k; /* **pointer; /* Indexers */\r\n",
      "  double theSum; /* size_t is an unsigned integer of size 16 bits */\r\n",
      "  /*\r\n",
      "  XI for indexing rows\r\n",
      "  XJ for indexing columns\r\n",
      "  XI0 unknown for now \r\n",
      "  */\r\n",
      "  int  XI, XJ, XI0, index; /* pointers as row indexers*/\r\n",
      "  index = 0;\r\n",
      "\r\n",
      "  for (i=0; i<m-1; ++i) { /* Iterating through the rows of the matrix */\r\n",
      "    // XI0 =  XI; /* taking the memory address of the array (Refer to line 29) */\r\n",
      "    XI = i*n; /* Move along memory by n ( the first coloumn */\r\n",
      "    XI0 = XI;\r\n",
      "    // Rprintf(\"XI is %d\\n\", XI);    \r\n",
      "    for (j=i+1; j<m; ++j) { /* iterating through the rows from the i_th row*/\r\n",
      "      // XI = x + i*(*n); /* Change to XI happpens here after using it on line 28*/\r\n",
      "      XJ = j*n;\r\n",
      "      // Rprintf(\"XJ is %d\\n\", XJ);\r\n",
      "      // XI = XI0; /* Index? */\r\n",
      "      theSum = 0.0;\r\n",
      "      for (k=0;k<n;k++,++XI,++XJ){\r\n",
      "        theSum += pow((x[XI]- x[XJ]), 2.0);\r\n",
      "        // Rprintf(\"x[XI] is %lf and x[XJ] is %lf\\n\", x[XI], x[XJ]);\r\n",
      "        // Rprintf(\"The sum is %lf\\n\", theSum);\r\n",
      "        // Rprintf(\"The sum is %d\\n\", theSum);\r\n",
      "      }\r\n",
      "      XI = XI0;\r\n",
      "      d[index++] = sqrt(theSum);\r\n",
      "      // Rprintf(\"d is %lf\\n\", d[index]);\r\n",
      "      // XI = XI0; /* Index? */\r\n",
      "    }\r\n",
      "  }\r\n",
      "  return 1;\r\n",
      "}\r\n"
     ]
    }
   ],
   "source": [
    "%%bash\n",
    "# cd CyPy\n",
    "cat eucdist.c"
   ]
  },
  {
   "cell_type": "code",
   "execution_count": 9,
   "metadata": {},
   "outputs": [
    {
     "name": "stdout",
     "output_type": "stream",
     "text": [
      "\n",
      "import numpy as np \n",
      "cimport numpy as np\n",
      "from copy import deepcopy # this is used to avoid the function from changing the input\n",
      "\n",
      "cdef extern from \"eucdist.h\":\n",
      "    bint euc_dist(double* input, int m, int n, double* output)\n",
      "\n",
      "\n",
      "def dist(input):\n",
      "    \"Input is an nd array and the function returns the distance between any two rows\"\n",
      "    # this helps to prevent changing the nature of the input\n",
      "    retain_global_input = deepcopy(input)\n",
      "    m, n = retain_global_input.shape\n",
      "    length = m*n\n",
      "    retain_global_input.shape = length\n",
      "    output = np.empty(int(m*(m-1)/2), dtype=np.float64)\n",
      "    status = euc_dist(<double*> np.PyArray_DATA(retain_global_input), \n",
      "                        m, n, <double*> np.PyArray_DATA(output))\n",
      "\n",
      "    assert status == 1, \"There is a problem with the compilation/linking\"\n",
      "    return output\n"
     ]
    }
   ],
   "source": [
    "%%bash\n",
    "cat ceucdist.pyx"
   ]
  },
  {
   "cell_type": "markdown",
   "metadata": {},
   "source": [
    "The C function is buid as a module using setup.py and imported into python"
   ]
  },
  {
   "cell_type": "code",
   "execution_count": 11,
   "metadata": {},
   "outputs": [
    {
     "name": "stdout",
     "output_type": "stream",
     "text": [
      "\n",
      "\n",
      "from distutils.core import setup\n",
      "from distutils.extension import Extension\n",
      "from Cython.Distutils import build_ext\n",
      "import numpy\n",
      "\n",
      "\n",
      "setup(\n",
      "name = \"Something2\",\n",
      "# Not the name of the module\n",
      "cmdclass = {\"build_ext\":build_ext},\n",
      "# magic\n",
      "ext_modules = [ Extension(\"mymodule2\",\n",
      "# The name of the module\n",
      "[\"ceucdist.pyx\"],\n",
      "libraries=[\"eucdist\"], include_dirs=[numpy.get_include()]) ]\n",
      ")\n",
      "\n",
      "# gcc -c eucdist.c -o eucdist.o\n",
      "# ar cr libeucdist.a eucdist.o\n",
      "# CFLAGS=\"-I.\" LDFLAGS=\"-L.\" python3 setup.py build_ext -i\n"
     ]
    }
   ],
   "source": [
    "%%bash\n",
    "cat setup.py"
   ]
  },
  {
   "cell_type": "code",
   "execution_count": 46,
   "metadata": {},
   "outputs": [],
   "source": [
    "# To compile the C code just run the following on the command line\n",
    "# gcc -c eucdist.c -o eucdist.o\n",
    "# ar cr libeucdist.a eucdist.o\n",
    "# CFLAGS=\"-I.\" LDFLAGS=\"-L.\" python3 setup.py build_ext -i"
   ]
  },
  {
   "cell_type": "markdown",
   "metadata": {},
   "source": [
    "## The Functions Written In Pure Python"
   ]
  },
  {
   "cell_type": "code",
   "execution_count": 13,
   "metadata": {},
   "outputs": [
    {
     "name": "stdout",
     "output_type": "stream",
     "text": [
      "import numpy as np \n",
      "from math import sqrt\n",
      "\n",
      "\n",
      "def dist_func(A, B,  func):\n",
      "        ''' apply a distance calculating function two list'''\n",
      "        return func(A, B)\n",
      "\n",
      "\n",
      "# using vectorization\n",
      "def e_dist(A, B):\n",
      "        assert len(A) == len(B), \"Invalid input(s)\"\n",
      "        return sqrt(sum([(A[i] - B[i])**2 for i in range(len(A))]))\n",
      "\n",
      "#using dot product\n",
      "def dot_prod(u, v):\n",
      "        assert len(u) == len(v), \"invalid input(s)\"\n",
      "        return sum(np.array(u)*np.array(v))\n",
      "\n",
      "\n",
      "def dot_prod_dist(u, v):\n",
      "        assert len(u) == len(v), \"invalid input(s)\"\n",
      "        A = np.array(u) - np.array(v)\n",
      "        return sqrt(dot_prod(A, A))\n",
      "        \n",
      "\n",
      "\n",
      "def the_loop(M, func):\n",
      "        # M is a numpy nd array\n",
      "        m = M.shape[0]\n",
      "        distance = np.zeros(int(m*(m-1)//2))\n",
      "        k = 0\n",
      "        for i in range(m-1):\n",
      "                A = M[i, ]\n",
      "                for j in range(i+1, m):\n",
      "                        distance[k] = dist_func(A, M[j, ], func)\n",
      "                        k += 1\n",
      "        return distance"
     ]
    }
   ],
   "source": [
    "%%bash\n",
    "cat functions.py"
   ]
  },
  {
   "cell_type": "markdown",
   "metadata": {},
   "source": [
    "Note that the same idea used in R. The_loop function takes a matrix(nd array) and a distance calculating function and apply to any two unique row combinatins."
   ]
  },
  {
   "cell_type": "markdown",
   "metadata": {},
   "source": [
    "## Testing for Consistency"
   ]
  },
  {
   "cell_type": "code",
   "execution_count": 14,
   "metadata": {},
   "outputs": [],
   "source": [
    "import numpy as np \n",
    "import os\n",
    "# os.chdir('/home/medfad/Desktop/WD/Abdul/2019/Project_Euclid/CyPy')\n",
    "from random import normalvariate, seed\n",
    "from math import sqrt\n",
    "from mymodule2 import dist\n",
    "import sys\n",
    "import timeit\n",
    "from functions import *"
   ]
  },
  {
   "cell_type": "code",
   "execution_count": 15,
   "metadata": {},
   "outputs": [],
   "source": [
    "seed(1)\n",
    "m, n = 1000, 2\n",
    "M = np.empty([m,n])\n",
    "\n",
    "for i in range(m):\n",
    "    for j in range(n):\n",
    "        M[i, j] = normalvariate(10, 10)"
   ]
  },
  {
   "cell_type": "code",
   "execution_count": 16,
   "metadata": {},
   "outputs": [
    {
     "data": {
      "text/plain": [
       "array([[16.07455858,  9.85774554],\n",
       "       [22.30907229, 20.15481167],\n",
       "       [ 6.63543072, 22.17481809],\n",
       "       [ 1.58685673,  7.88658975],\n",
       "       [ 4.04653337,  1.07250122],\n",
       "       [23.05670242, 12.99854821],\n",
       "       [ 0.25372232, 23.15622659],\n",
       "       [22.95613455, 27.17303476],\n",
       "       [ 1.8207828 , 10.22054965],\n",
       "       [-0.54504182, 18.71124194],\n",
       "       [-2.43269821, 20.70067292]])"
      ]
     },
     "execution_count": 16,
     "metadata": {},
     "output_type": "execute_result"
    }
   ],
   "source": [
    "M[:11, ]"
   ]
  },
  {
   "cell_type": "code",
   "execution_count": 18,
   "metadata": {},
   "outputs": [],
   "source": [
    "d1 = dist(M)\n",
    "d2 = the_loop(M, e_dist)\n",
    "d3 = the_loop(M, dot_prod_dist)"
   ]
  },
  {
   "cell_type": "code",
   "execution_count": 19,
   "metadata": {},
   "outputs": [
    {
     "name": "stdout",
     "output_type": "stream",
     "text": [
      "d1[:11]:  [12.03738892 15.51797057 14.62118189 14.8947611   7.65604167 20.66757019\n",
      " 18.63264148 14.25839229 18.83070672 21.44965332  9.93768337] \n",
      "\n",
      " d2[:11]:  [12.03738892 15.51797057 14.62118189 14.8947611   7.65604167 20.66757019\n",
      " 18.63264148 14.25839229 18.83070672 21.44965332  9.93768337] \n",
      "\n",
      " d3[:11]:  [12.03738892 15.51797057 14.62118189 14.8947611   7.65604167 20.66757019\n",
      " 18.63264148 14.25839229 18.83070672 21.44965332  9.93768337]\n"
     ]
    }
   ],
   "source": [
    "print(\"d1[:11]: \", d1[:11], \"\\n\\n\", \"d2[:11]: \", d2[:11], \"\\n\\n\", \"d3[:11]: \", d3[:11])"
   ]
  },
  {
   "cell_type": "markdown",
   "metadata": {},
   "source": [
    "## Compairing Times\n",
    "The times were compared for few rows and here is the output.\n"
   ]
  },
  {
   "cell_type": "code",
   "execution_count": 43,
   "metadata": {},
   "outputs": [
    {
     "name": "stdout",
     "output_type": "stream",
     "text": [
      "The times are calculated by taking the average time of 100 replications of the same function\n",
      "\n",
      " ******************************************************************************** \n",
      "\n",
      "100 by 2\n",
      "\n",
      "python function without dot product\n",
      "\ttime\trelative\n",
      "\t3.045\t1\n",
      "\n",
      "using C\n",
      "\ttime\trelative\n",
      "\t0.055\t55.364\n",
      "\n",
      "using dot product\n",
      "\ttime\trelative\n",
      "\t4.872\t0.625\n",
      "\n",
      "\n",
      " ******************************************************************************** \n",
      "\n",
      "500 by 2\n",
      "\n",
      "python function without dot product\n",
      "\ttime\trelative\n",
      "\t75.231\t1\n",
      "\n",
      "using C\n",
      "\ttime\trelative\n",
      "\t1.356\t55.48\n",
      "\n",
      "using dot product\n",
      "\ttime\trelative\n",
      "\t122.563\t0.614\n",
      "\n",
      "\n",
      " ******************************************************************************** \n",
      "\n",
      "1000 by 2\n",
      "\n",
      "python function without dot product\n",
      "\ttime\trelative\n",
      "\t315.346\t1\n",
      "\n",
      "using C\n",
      "\ttime\trelative\n",
      "\t7.803\t40.413\n",
      "\n",
      "using dot product\n",
      "\ttime\trelative\n",
      "\t673.697\t0.468\n",
      "\n",
      "\n",
      " ******************************************************************************** \n",
      "\n",
      "1500 by 2\n",
      "\n",
      "python function without dot product\n",
      "\ttime\trelative\n",
      "\t982.838\t1\n",
      "\n",
      "using C\n",
      "\ttime\trelative\n",
      "\t17.325\t56.729\n",
      "\n",
      "using dot product\n",
      "\ttime\trelative\n",
      "\t1592.454\t0.617\n",
      "\n"
     ]
    }
   ],
   "source": [
    "%%bash\n",
    "cat py_compare_times.txt"
   ]
  },
  {
   "cell_type": "markdown",
   "metadata": {},
   "source": [
    "Here we can see the trend repeats except that the C/Python function is performing significantly faster. Upto about 55x faster"
   ]
  },
  {
   "cell_type": "code",
   "execution_count": 20,
   "metadata": {},
   "outputs": [],
   "source": [
    "import pandas as pd\n",
    "import numpy as np\n",
    "\n",
    "time_rows = pd.DataFrame(columns = [\"Cython\", \"eucdist\", \"dotprod\"],\n",
    "                         index = [100, 500, 1000, 1500], dtype=np.float64)\n",
    "time_rows['Cython'] = [55.364, 55.48, 40.413, 56.729]\n",
    "time_rows['eucdist'] = np.ones(4)\n",
    "time_rows[\"dotprod\"] = [0.625, 0.614, 0.468, 0.617]\n",
    "base_time = [3.045, 75.231, 315.346, 982.838]"
   ]
  },
  {
   "cell_type": "code",
   "execution_count": 29,
   "metadata": {
    "scrolled": true
   },
   "outputs": [
    {
     "data": {
      "image/png": "[encoded data removed]",
      "text/plain": [
       "<Figure size 1080x720 with 1 Axes>"
      ]
     },
     "metadata": {
      "needs_background": "light"
     },
     "output_type": "display_data"
    }
   ],
   "source": [
    "import matplotlib.pyplot as plt\n",
    "%matplotlib inline\n",
    "import seaborn as sns\n",
    "plt.figure(figsize=(15, 10))\n",
    "sns.lineplot(data=time_rows)\n",
    "plt.show()"
   ]
  },
  {
   "cell_type": "markdown",
   "metadata": {},
   "source": [
    "Unsuprisingly Cython is doing much better. The trend does seemed to settle at a value as it does in R but this might be evident for more inputs. Overall R is performing better in almost all of the function they have in common. Here is look at the time the base python function eucdist takes"
   ]
  },
  {
   "cell_type": "code",
   "execution_count": 27,
   "metadata": {},
   "outputs": [
    {
     "data": {
      "text/plain": [
       "[3.045, 75.231, 315.346, 982.838]"
      ]
     },
     "execution_count": 27,
     "metadata": {},
     "output_type": "execute_result"
    }
   ],
   "source": [
    "base_time # times for [100, 500, 1000, 1500]"
   ]
  }
 ],
 "metadata": {
  "kernelspec": {
   "display_name": "Python 3",
   "language": "python",
   "name": "python3"
  },
  "language_info": {
   "codemirror_mode": {
    "name": "ipython",
    "version": 3
   },
   "file_extension": ".py",
   "mimetype": "text/x-python",
   "name": "python",
   "nbconvert_exporter": "python",
   "pygments_lexer": "ipython3",
   "version": "3.7.3"
  }
 },
 "nbformat": 4,
 "nbformat_minor": 2
}
